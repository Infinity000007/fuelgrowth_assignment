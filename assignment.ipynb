{
  "nbformat": 4,
  "nbformat_minor": 0,
  "metadata": {
    "colab": {
      "provenance": [],
      "gpuType": "V28"
    },
    "kernelspec": {
      "name": "python3",
      "display_name": "Python 3"
    },
    "language_info": {
      "name": "python"
    },
    "accelerator": "TPU"
  },
  "cells": [
    {
      "cell_type": "markdown",
      "source": [
        "#STEP 1 : LOAD THE DATA"
      ],
      "metadata": {
        "id": "lAxhovz1uIiX"
      }
    },
    {
      "cell_type": "code",
      "execution_count": 1,
      "metadata": {
        "colab": {
          "base_uri": "https://localhost:8080/"
        },
        "id": "rTSLhSDEGqam",
        "outputId": "b09673a8-a338-451c-c9d0-a96d2d061487"
      },
      "outputs": [
        {
          "output_type": "stream",
          "name": "stdout",
          "text": [
            "Requirement already satisfied: gspread in /usr/local/lib/python3.10/dist-packages (6.0.2)\n",
            "Collecting gspread\n",
            "  Downloading gspread-6.1.4-py3-none-any.whl.metadata (11 kB)\n",
            "Requirement already satisfied: oauth2client in /usr/local/lib/python3.10/dist-packages (4.1.3)\n",
            "Requirement already satisfied: google-auth>=1.12.0 in /usr/local/lib/python3.10/dist-packages (from gspread) (2.27.0)\n",
            "Requirement already satisfied: google-auth-oauthlib>=0.4.1 in /usr/local/lib/python3.10/dist-packages (from gspread) (1.2.1)\n",
            "Requirement already satisfied: httplib2>=0.9.1 in /usr/local/lib/python3.10/dist-packages (from oauth2client) (0.22.0)\n",
            "Requirement already satisfied: pyasn1>=0.1.7 in /usr/local/lib/python3.10/dist-packages (from oauth2client) (0.6.1)\n",
            "Requirement already satisfied: pyasn1-modules>=0.0.5 in /usr/local/lib/python3.10/dist-packages (from oauth2client) (0.4.1)\n",
            "Requirement already satisfied: rsa>=3.1.4 in /usr/local/lib/python3.10/dist-packages (from oauth2client) (4.9)\n",
            "Requirement already satisfied: six>=1.6.1 in /usr/local/lib/python3.10/dist-packages (from oauth2client) (1.16.0)\n",
            "Requirement already satisfied: cachetools<6.0,>=2.0.0 in /usr/local/lib/python3.10/dist-packages (from google-auth>=1.12.0->gspread) (5.5.0)\n",
            "Requirement already satisfied: requests-oauthlib>=0.7.0 in /usr/local/lib/python3.10/dist-packages (from google-auth-oauthlib>=0.4.1->gspread) (1.3.1)\n",
            "Requirement already satisfied: pyparsing!=3.0.0,!=3.0.1,!=3.0.2,!=3.0.3,<4,>=2.4.2 in /usr/local/lib/python3.10/dist-packages (from httplib2>=0.9.1->oauth2client) (3.2.0)\n",
            "Requirement already satisfied: oauthlib>=3.0.0 in /usr/local/lib/python3.10/dist-packages (from requests-oauthlib>=0.7.0->google-auth-oauthlib>=0.4.1->gspread) (3.2.2)\n",
            "Requirement already satisfied: requests>=2.0.0 in /usr/local/lib/python3.10/dist-packages (from requests-oauthlib>=0.7.0->google-auth-oauthlib>=0.4.1->gspread) (2.32.3)\n",
            "Requirement already satisfied: charset-normalizer<4,>=2 in /usr/local/lib/python3.10/dist-packages (from requests>=2.0.0->requests-oauthlib>=0.7.0->google-auth-oauthlib>=0.4.1->gspread) (3.4.0)\n",
            "Requirement already satisfied: idna<4,>=2.5 in /usr/local/lib/python3.10/dist-packages (from requests>=2.0.0->requests-oauthlib>=0.7.0->google-auth-oauthlib>=0.4.1->gspread) (3.10)\n",
            "Requirement already satisfied: urllib3<3,>=1.21.1 in /usr/local/lib/python3.10/dist-packages (from requests>=2.0.0->requests-oauthlib>=0.7.0->google-auth-oauthlib>=0.4.1->gspread) (2.2.3)\n",
            "Requirement already satisfied: certifi>=2017.4.17 in /usr/local/lib/python3.10/dist-packages (from requests>=2.0.0->requests-oauthlib>=0.7.0->google-auth-oauthlib>=0.4.1->gspread) (2024.8.30)\n",
            "Downloading gspread-6.1.4-py3-none-any.whl (57 kB)\n",
            "\u001b[2K   \u001b[90m━━━━━━━━━━━━━━━━━━━━━━━━━━━━━━━━━━━━━━━━\u001b[0m \u001b[32m57.6/57.6 kB\u001b[0m \u001b[31m3.0 MB/s\u001b[0m eta \u001b[36m0:00:00\u001b[0m\n",
            "\u001b[?25hInstalling collected packages: gspread\n",
            "  Attempting uninstall: gspread\n",
            "    Found existing installation: gspread 6.0.2\n",
            "    Uninstalling gspread-6.0.2:\n",
            "      Successfully uninstalled gspread-6.0.2\n",
            "Successfully installed gspread-6.1.4\n"
          ]
        }
      ],
      "source": [
        "!pip install --upgrade gspread oauth2client\n"
      ]
    },
    {
      "cell_type": "code",
      "source": [
        "from google.colab import auth\n",
        "from google.auth import default\n",
        "import gspread\n",
        "import pandas as pd\n",
        "\n",
        "# Authenticate and create the gspread client\n",
        "auth.authenticate_user()\n",
        "# Get credentials and project ID from default()\n",
        "creds, _ = default()\n",
        "# Use credentials to authorize gspread\n",
        "gc = gspread.authorize(creds)\n",
        "\n",
        "# Open the spreadsheet by URL\n",
        "spreadsheet = gc.open_by_url('https://docs.google.com/spreadsheets/d/1Bj4-sd6362GWrFZOPcND3fFo0oroO1pfhkpMJh8iIE4/edit?gid=0#gid=0')\n",
        "\n",
        "# Access the first sheet (if you have multiple sheets, you can select them by index or name)\n",
        "worksheet = spreadsheet.sheet1\n",
        "\n",
        "# Get all records from the sheet\n",
        "data = pd.DataFrame(worksheet.get_all_records())\n",
        "\n",
        "# Show the first few rows to verify data\n",
        "data.head()"
      ],
      "metadata": {
        "colab": {
          "base_uri": "https://localhost:8080/",
          "height": 206
        },
        "id": "gVbpVL1yGuYK",
        "outputId": "a81bee65-7e12-45f4-9361-439847786340"
      },
      "execution_count": 2,
      "outputs": [
        {
          "output_type": "execute_result",
          "data": {
            "text/plain": [
              "   Performance                                          Video URL\n",
              "0       1.1060  https://fgimagestorage.blob.core.windows.net/f...\n",
              "1       2.2447  https://fgimagestorage.blob.core.windows.net/f...\n",
              "2       2.0126  https://fgimagestorage.blob.core.windows.net/f...\n",
              "3       1.7708  https://fgimagestorage.blob.core.windows.net/f...\n",
              "4       0.6293  https://fgimagestorage.blob.core.windows.net/f..."
            ],
            "text/html": [
              "\n",
              "  <div id=\"df-bccf9a12-893c-47ce-bad1-80faeb9a7db1\" class=\"colab-df-container\">\n",
              "    <div>\n",
              "<style scoped>\n",
              "    .dataframe tbody tr th:only-of-type {\n",
              "        vertical-align: middle;\n",
              "    }\n",
              "\n",
              "    .dataframe tbody tr th {\n",
              "        vertical-align: top;\n",
              "    }\n",
              "\n",
              "    .dataframe thead th {\n",
              "        text-align: right;\n",
              "    }\n",
              "</style>\n",
              "<table border=\"1\" class=\"dataframe\">\n",
              "  <thead>\n",
              "    <tr style=\"text-align: right;\">\n",
              "      <th></th>\n",
              "      <th>Performance</th>\n",
              "      <th>Video URL</th>\n",
              "    </tr>\n",
              "  </thead>\n",
              "  <tbody>\n",
              "    <tr>\n",
              "      <th>0</th>\n",
              "      <td>1.1060</td>\n",
              "      <td>https://fgimagestorage.blob.core.windows.net/f...</td>\n",
              "    </tr>\n",
              "    <tr>\n",
              "      <th>1</th>\n",
              "      <td>2.2447</td>\n",
              "      <td>https://fgimagestorage.blob.core.windows.net/f...</td>\n",
              "    </tr>\n",
              "    <tr>\n",
              "      <th>2</th>\n",
              "      <td>2.0126</td>\n",
              "      <td>https://fgimagestorage.blob.core.windows.net/f...</td>\n",
              "    </tr>\n",
              "    <tr>\n",
              "      <th>3</th>\n",
              "      <td>1.7708</td>\n",
              "      <td>https://fgimagestorage.blob.core.windows.net/f...</td>\n",
              "    </tr>\n",
              "    <tr>\n",
              "      <th>4</th>\n",
              "      <td>0.6293</td>\n",
              "      <td>https://fgimagestorage.blob.core.windows.net/f...</td>\n",
              "    </tr>\n",
              "  </tbody>\n",
              "</table>\n",
              "</div>\n",
              "    <div class=\"colab-df-buttons\">\n",
              "\n",
              "  <div class=\"colab-df-container\">\n",
              "    <button class=\"colab-df-convert\" onclick=\"convertToInteractive('df-bccf9a12-893c-47ce-bad1-80faeb9a7db1')\"\n",
              "            title=\"Convert this dataframe to an interactive table.\"\n",
              "            style=\"display:none;\">\n",
              "\n",
              "  <svg xmlns=\"http://www.w3.org/2000/svg\" height=\"24px\" viewBox=\"0 -960 960 960\">\n",
              "    <path d=\"M120-120v-720h720v720H120Zm60-500h600v-160H180v160Zm220 220h160v-160H400v160Zm0 220h160v-160H400v160ZM180-400h160v-160H180v160Zm440 0h160v-160H620v160ZM180-180h160v-160H180v160Zm440 0h160v-160H620v160Z\"/>\n",
              "  </svg>\n",
              "    </button>\n",
              "\n",
              "  <style>\n",
              "    .colab-df-container {\n",
              "      display:flex;\n",
              "      gap: 12px;\n",
              "    }\n",
              "\n",
              "    .colab-df-convert {\n",
              "      background-color: #E8F0FE;\n",
              "      border: none;\n",
              "      border-radius: 50%;\n",
              "      cursor: pointer;\n",
              "      display: none;\n",
              "      fill: #1967D2;\n",
              "      height: 32px;\n",
              "      padding: 0 0 0 0;\n",
              "      width: 32px;\n",
              "    }\n",
              "\n",
              "    .colab-df-convert:hover {\n",
              "      background-color: #E2EBFA;\n",
              "      box-shadow: 0px 1px 2px rgba(60, 64, 67, 0.3), 0px 1px 3px 1px rgba(60, 64, 67, 0.15);\n",
              "      fill: #174EA6;\n",
              "    }\n",
              "\n",
              "    .colab-df-buttons div {\n",
              "      margin-bottom: 4px;\n",
              "    }\n",
              "\n",
              "    [theme=dark] .colab-df-convert {\n",
              "      background-color: #3B4455;\n",
              "      fill: #D2E3FC;\n",
              "    }\n",
              "\n",
              "    [theme=dark] .colab-df-convert:hover {\n",
              "      background-color: #434B5C;\n",
              "      box-shadow: 0px 1px 3px 1px rgba(0, 0, 0, 0.15);\n",
              "      filter: drop-shadow(0px 1px 2px rgba(0, 0, 0, 0.3));\n",
              "      fill: #FFFFFF;\n",
              "    }\n",
              "  </style>\n",
              "\n",
              "    <script>\n",
              "      const buttonEl =\n",
              "        document.querySelector('#df-bccf9a12-893c-47ce-bad1-80faeb9a7db1 button.colab-df-convert');\n",
              "      buttonEl.style.display =\n",
              "        google.colab.kernel.accessAllowed ? 'block' : 'none';\n",
              "\n",
              "      async function convertToInteractive(key) {\n",
              "        const element = document.querySelector('#df-bccf9a12-893c-47ce-bad1-80faeb9a7db1');\n",
              "        const dataTable =\n",
              "          await google.colab.kernel.invokeFunction('convertToInteractive',\n",
              "                                                    [key], {});\n",
              "        if (!dataTable) return;\n",
              "\n",
              "        const docLinkHtml = 'Like what you see? Visit the ' +\n",
              "          '<a target=\"_blank\" href=https://colab.research.google.com/notebooks/data_table.ipynb>data table notebook</a>'\n",
              "          + ' to learn more about interactive tables.';\n",
              "        element.innerHTML = '';\n",
              "        dataTable['output_type'] = 'display_data';\n",
              "        await google.colab.output.renderOutput(dataTable, element);\n",
              "        const docLink = document.createElement('div');\n",
              "        docLink.innerHTML = docLinkHtml;\n",
              "        element.appendChild(docLink);\n",
              "      }\n",
              "    </script>\n",
              "  </div>\n",
              "\n",
              "\n",
              "<div id=\"df-9dbcc7af-ac92-4850-bb60-4c5e571da938\">\n",
              "  <button class=\"colab-df-quickchart\" onclick=\"quickchart('df-9dbcc7af-ac92-4850-bb60-4c5e571da938')\"\n",
              "            title=\"Suggest charts\"\n",
              "            style=\"display:none;\">\n",
              "\n",
              "<svg xmlns=\"http://www.w3.org/2000/svg\" height=\"24px\"viewBox=\"0 0 24 24\"\n",
              "     width=\"24px\">\n",
              "    <g>\n",
              "        <path d=\"M19 3H5c-1.1 0-2 .9-2 2v14c0 1.1.9 2 2 2h14c1.1 0 2-.9 2-2V5c0-1.1-.9-2-2-2zM9 17H7v-7h2v7zm4 0h-2V7h2v10zm4 0h-2v-4h2v4z\"/>\n",
              "    </g>\n",
              "</svg>\n",
              "  </button>\n",
              "\n",
              "<style>\n",
              "  .colab-df-quickchart {\n",
              "      --bg-color: #E8F0FE;\n",
              "      --fill-color: #1967D2;\n",
              "      --hover-bg-color: #E2EBFA;\n",
              "      --hover-fill-color: #174EA6;\n",
              "      --disabled-fill-color: #AAA;\n",
              "      --disabled-bg-color: #DDD;\n",
              "  }\n",
              "\n",
              "  [theme=dark] .colab-df-quickchart {\n",
              "      --bg-color: #3B4455;\n",
              "      --fill-color: #D2E3FC;\n",
              "      --hover-bg-color: #434B5C;\n",
              "      --hover-fill-color: #FFFFFF;\n",
              "      --disabled-bg-color: #3B4455;\n",
              "      --disabled-fill-color: #666;\n",
              "  }\n",
              "\n",
              "  .colab-df-quickchart {\n",
              "    background-color: var(--bg-color);\n",
              "    border: none;\n",
              "    border-radius: 50%;\n",
              "    cursor: pointer;\n",
              "    display: none;\n",
              "    fill: var(--fill-color);\n",
              "    height: 32px;\n",
              "    padding: 0;\n",
              "    width: 32px;\n",
              "  }\n",
              "\n",
              "  .colab-df-quickchart:hover {\n",
              "    background-color: var(--hover-bg-color);\n",
              "    box-shadow: 0 1px 2px rgba(60, 64, 67, 0.3), 0 1px 3px 1px rgba(60, 64, 67, 0.15);\n",
              "    fill: var(--button-hover-fill-color);\n",
              "  }\n",
              "\n",
              "  .colab-df-quickchart-complete:disabled,\n",
              "  .colab-df-quickchart-complete:disabled:hover {\n",
              "    background-color: var(--disabled-bg-color);\n",
              "    fill: var(--disabled-fill-color);\n",
              "    box-shadow: none;\n",
              "  }\n",
              "\n",
              "  .colab-df-spinner {\n",
              "    border: 2px solid var(--fill-color);\n",
              "    border-color: transparent;\n",
              "    border-bottom-color: var(--fill-color);\n",
              "    animation:\n",
              "      spin 1s steps(1) infinite;\n",
              "  }\n",
              "\n",
              "  @keyframes spin {\n",
              "    0% {\n",
              "      border-color: transparent;\n",
              "      border-bottom-color: var(--fill-color);\n",
              "      border-left-color: var(--fill-color);\n",
              "    }\n",
              "    20% {\n",
              "      border-color: transparent;\n",
              "      border-left-color: var(--fill-color);\n",
              "      border-top-color: var(--fill-color);\n",
              "    }\n",
              "    30% {\n",
              "      border-color: transparent;\n",
              "      border-left-color: var(--fill-color);\n",
              "      border-top-color: var(--fill-color);\n",
              "      border-right-color: var(--fill-color);\n",
              "    }\n",
              "    40% {\n",
              "      border-color: transparent;\n",
              "      border-right-color: var(--fill-color);\n",
              "      border-top-color: var(--fill-color);\n",
              "    }\n",
              "    60% {\n",
              "      border-color: transparent;\n",
              "      border-right-color: var(--fill-color);\n",
              "    }\n",
              "    80% {\n",
              "      border-color: transparent;\n",
              "      border-right-color: var(--fill-color);\n",
              "      border-bottom-color: var(--fill-color);\n",
              "    }\n",
              "    90% {\n",
              "      border-color: transparent;\n",
              "      border-bottom-color: var(--fill-color);\n",
              "    }\n",
              "  }\n",
              "</style>\n",
              "\n",
              "  <script>\n",
              "    async function quickchart(key) {\n",
              "      const quickchartButtonEl =\n",
              "        document.querySelector('#' + key + ' button');\n",
              "      quickchartButtonEl.disabled = true;  // To prevent multiple clicks.\n",
              "      quickchartButtonEl.classList.add('colab-df-spinner');\n",
              "      try {\n",
              "        const charts = await google.colab.kernel.invokeFunction(\n",
              "            'suggestCharts', [key], {});\n",
              "      } catch (error) {\n",
              "        console.error('Error during call to suggestCharts:', error);\n",
              "      }\n",
              "      quickchartButtonEl.classList.remove('colab-df-spinner');\n",
              "      quickchartButtonEl.classList.add('colab-df-quickchart-complete');\n",
              "    }\n",
              "    (() => {\n",
              "      let quickchartButtonEl =\n",
              "        document.querySelector('#df-9dbcc7af-ac92-4850-bb60-4c5e571da938 button');\n",
              "      quickchartButtonEl.style.display =\n",
              "        google.colab.kernel.accessAllowed ? 'block' : 'none';\n",
              "    })();\n",
              "  </script>\n",
              "</div>\n",
              "\n",
              "    </div>\n",
              "  </div>\n"
            ],
            "application/vnd.google.colaboratory.intrinsic+json": {
              "type": "dataframe",
              "variable_name": "data",
              "summary": "{\n  \"name\": \"data\",\n  \"rows\": 268,\n  \"fields\": [\n    {\n      \"column\": \"Performance\",\n      \"properties\": {\n        \"dtype\": \"number\",\n        \"std\": 0.6034462286193318,\n        \"min\": 0.01353724351,\n        \"max\": 2.2847,\n        \"num_unique_values\": 267,\n        \"samples\": [\n          1.887,\n          1.6515,\n          0.6940548792\n        ],\n        \"semantic_type\": \"\",\n        \"description\": \"\"\n      }\n    },\n    {\n      \"column\": \"Video URL\",\n      \"properties\": {\n        \"dtype\": \"string\",\n        \"num_unique_values\": 268,\n        \"samples\": [\n          \"https://fgimagestorage.blob.core.windows.net/facebook-assets/hd-897680994566577\",\n          \"https://fgimagestorage.blob.core.windows.net/facebook-assets/hd-7995631707140182\",\n          \"https://fgimagestorage.blob.core.windows.net/facebook-assets/hd-966019214364727\"\n        ],\n        \"semantic_type\": \"\",\n        \"description\": \"\"\n      }\n    }\n  ]\n}"
            }
          },
          "metadata": {},
          "execution_count": 2
        }
      ]
    },
    {
      "cell_type": "code",
      "source": [
        "# Check the column names and types\n",
        "data.columns\n"
      ],
      "metadata": {
        "colab": {
          "base_uri": "https://localhost:8080/"
        },
        "id": "68unCZiaGxPR",
        "outputId": "ec5f710c-e22e-47f0-ecd3-0244308518d8"
      },
      "execution_count": 3,
      "outputs": [
        {
          "output_type": "execute_result",
          "data": {
            "text/plain": [
              "Index(['Performance', 'Video URL'], dtype='object')"
            ]
          },
          "metadata": {},
          "execution_count": 3
        }
      ]
    },
    {
      "cell_type": "code",
      "source": [
        "import requests\n",
        "import os\n",
        "\n",
        "# Create a directory to save the videos\n",
        "if not os.path.exists('videos'):\n",
        "    os.makedirs('videos')\n",
        "\n",
        "# Function to download a video\n",
        "def download_video(url, filename):\n",
        "    response = requests.get(url)\n",
        "    with open(filename, \"wb\") as file:\n",
        "        file.write(response.content)\n",
        "\n",
        "# Loop through all video URLs and download\n",
        "for i, url in enumerate(data['Video URL']):\n",
        "    filename = f\"videos/video_{i+1}.mp4\"  # Naming files as video_1, video_2, etc.\n",
        "    try:\n",
        "        print(f\"Downloading video {i+1} from {url}...\")\n",
        "        download_video(url, filename)\n",
        "        print(f\"Video {i+1} downloaded successfully!\")\n",
        "    except Exception as e:\n",
        "        print(f\"Failed to download video {i+1} from {url}. Error: {e}\")\n"
      ],
      "metadata": {
        "colab": {
          "base_uri": "https://localhost:8080/"
        },
        "id": "rdb1jvDYG0gN",
        "outputId": "505824b2-3ab3-494c-9fa0-6d9aac6dfc04",
        "collapsed": true
      },
      "execution_count": 4,
      "outputs": [
        {
          "output_type": "stream",
          "name": "stdout",
          "text": [
            "Downloading video 1 from https://fgimagestorage.blob.core.windows.net/facebook-assets/hd-999607261342550...\n",
            "Video 1 downloaded successfully!\n",
            "Downloading video 2 from https://fgimagestorage.blob.core.windows.net/facebook-assets/hd-997580728807604...\n",
            "Video 2 downloaded successfully!\n",
            "Downloading video 3 from https://fgimagestorage.blob.core.windows.net/facebook-assets/hd-992418235673669...\n",
            "Video 3 downloaded successfully!\n",
            "Downloading video 4 from https://fgimagestorage.blob.core.windows.net/facebook-assets/hd-992064161877405...\n",
            "Video 4 downloaded successfully!\n",
            "Downloading video 5 from https://fgimagestorage.blob.core.windows.net/facebook-assets/hd-991636695150147...\n",
            "Video 5 downloaded successfully!\n",
            "Downloading video 6 from https://fgimagestorage.blob.core.windows.net/facebook-assets/hd-989969399547901...\n",
            "Video 6 downloaded successfully!\n",
            "Downloading video 7 from https://fgimagestorage.blob.core.windows.net/facebook-assets/hd-989930303148492...\n",
            "Video 7 downloaded successfully!\n",
            "Downloading video 8 from https://fgimagestorage.blob.core.windows.net/facebook-assets/hd-989654009083459...\n",
            "Video 8 downloaded successfully!\n",
            "Downloading video 9 from https://fgimagestorage.blob.core.windows.net/facebook-assets/hd-989600295478567...\n",
            "Video 9 downloaded successfully!\n",
            "Downloading video 10 from https://fgimagestorage.blob.core.windows.net/facebook-assets/hd-989284361966196...\n",
            "Video 10 downloaded successfully!\n",
            "Downloading video 11 from https://fgimagestorage.blob.core.windows.net/facebook-assets/hd-988185795921355...\n",
            "Video 11 downloaded successfully!\n",
            "Downloading video 12 from https://fgimagestorage.blob.core.windows.net/facebook-assets/hd-987643572956494...\n",
            "Video 12 downloaded successfully!\n",
            "Downloading video 13 from https://fgimagestorage.blob.core.windows.net/facebook-assets/hd-987287402378278...\n",
            "Video 13 downloaded successfully!\n",
            "Downloading video 14 from https://fgimagestorage.blob.core.windows.net/facebook-assets/hd-987232088920289...\n",
            "Video 14 downloaded successfully!\n",
            "Downloading video 15 from https://fgimagestorage.blob.core.windows.net/facebook-assets/hd-986360206629277...\n",
            "Video 15 downloaded successfully!\n",
            "Downloading video 16 from https://fgimagestorage.blob.core.windows.net/facebook-assets/hd-983335896508749...\n",
            "Video 16 downloaded successfully!\n",
            "Downloading video 17 from https://fgimagestorage.blob.core.windows.net/facebook-assets/hd-978448136455993...\n",
            "Video 17 downloaded successfully!\n",
            "Downloading video 18 from https://fgimagestorage.blob.core.windows.net/facebook-assets/hd-977008307250628...\n",
            "Video 18 downloaded successfully!\n",
            "Downloading video 19 from https://fgimagestorage.blob.core.windows.net/facebook-assets/hd-975523146942238...\n",
            "Video 19 downloaded successfully!\n",
            "Downloading video 20 from https://fgimagestorage.blob.core.windows.net/facebook-assets/hd-967731231014052...\n",
            "Video 20 downloaded successfully!\n",
            "Downloading video 21 from https://fgimagestorage.blob.core.windows.net/facebook-assets/hd-966715248087290...\n",
            "Video 21 downloaded successfully!\n",
            "Downloading video 22 from https://fgimagestorage.blob.core.windows.net/facebook-assets/hd-966458824582483...\n",
            "Video 22 downloaded successfully!\n",
            "Downloading video 23 from https://fgimagestorage.blob.core.windows.net/facebook-assets/hd-966019214364727...\n",
            "Video 23 downloaded successfully!\n",
            "Downloading video 24 from https://fgimagestorage.blob.core.windows.net/facebook-assets/hd-965108935263649...\n",
            "Video 24 downloaded successfully!\n",
            "Downloading video 25 from https://fgimagestorage.blob.core.windows.net/facebook-assets/hd-964733417506862...\n",
            "Video 25 downloaded successfully!\n",
            "Downloading video 26 from https://fgimagestorage.blob.core.windows.net/facebook-assets/hd-963303392509872...\n",
            "Video 26 downloaded successfully!\n",
            "Downloading video 27 from https://fgimagestorage.blob.core.windows.net/facebook-assets/hd-960884234555681...\n",
            "Video 27 downloaded successfully!\n",
            "Downloading video 28 from https://fgimagestorage.blob.core.windows.net/facebook-assets/hd-958774641659407...\n",
            "Video 28 downloaded successfully!\n",
            "Downloading video 29 from https://fgimagestorage.blob.core.windows.net/facebook-assets/hd-958675741960412...\n",
            "Video 29 downloaded successfully!\n",
            "Downloading video 30 from https://fgimagestorage.blob.core.windows.net/facebook-assets/hd-958267042213267...\n",
            "Video 30 downloaded successfully!\n",
            "Downloading video 31 from https://fgimagestorage.blob.core.windows.net/facebook-assets/hd-954832972830686...\n",
            "Video 31 downloaded successfully!\n",
            "Downloading video 32 from https://fgimagestorage.blob.core.windows.net/facebook-assets/hd-954440782897187...\n",
            "Video 32 downloaded successfully!\n",
            "Downloading video 33 from https://fgimagestorage.blob.core.windows.net/facebook-assets/hd-951885082053340...\n",
            "Video 33 downloaded successfully!\n",
            "Downloading video 34 from https://fgimagestorage.blob.core.windows.net/facebook-assets/hd-951491629353387...\n",
            "Video 34 downloaded successfully!\n",
            "Downloading video 35 from https://fgimagestorage.blob.core.windows.net/facebook-assets/hd-946181943065342...\n",
            "Video 35 downloaded successfully!\n",
            "Downloading video 36 from https://fgimagestorage.blob.core.windows.net/facebook-assets/hd-944981830978756...\n",
            "Video 36 downloaded successfully!\n",
            "Downloading video 37 from https://fgimagestorage.blob.core.windows.net/facebook-assets/hd-944755280756437...\n",
            "Video 37 downloaded successfully!\n",
            "Downloading video 38 from https://fgimagestorage.blob.core.windows.net/facebook-assets/hd-944160410298140...\n",
            "Video 38 downloaded successfully!\n",
            "Downloading video 39 from https://fgimagestorage.blob.core.windows.net/facebook-assets/hd-942779243913664...\n",
            "Video 39 downloaded successfully!\n",
            "Downloading video 40 from https://fgimagestorage.blob.core.windows.net/facebook-assets/hd-942524046763053...\n",
            "Video 40 downloaded successfully!\n",
            "Downloading video 41 from https://fgimagestorage.blob.core.windows.net/facebook-assets/hd-940634710428411...\n",
            "Video 41 downloaded successfully!\n",
            "Downloading video 42 from https://fgimagestorage.blob.core.windows.net/facebook-assets/hd-939795907980426...\n",
            "Video 42 downloaded successfully!\n",
            "Downloading video 43 from https://fgimagestorage.blob.core.windows.net/facebook-assets/hd-938232524809973...\n",
            "Video 43 downloaded successfully!\n",
            "Downloading video 44 from https://fgimagestorage.blob.core.windows.net/facebook-assets/hd-937508703912579...\n",
            "Video 44 downloaded successfully!\n",
            "Downloading video 45 from https://fgimagestorage.blob.core.windows.net/facebook-assets/hd-937410954343974...\n",
            "Video 45 downloaded successfully!\n",
            "Downloading video 46 from https://fgimagestorage.blob.core.windows.net/facebook-assets/hd-935558767885747...\n",
            "Video 46 downloaded successfully!\n",
            "Downloading video 47 from https://fgimagestorage.blob.core.windows.net/facebook-assets/hd-935530867630269...\n",
            "Video 47 downloaded successfully!\n",
            "Downloading video 48 from https://fgimagestorage.blob.core.windows.net/facebook-assets/hd-935168780798574...\n",
            "Video 48 downloaded successfully!\n",
            "Downloading video 49 from https://fgimagestorage.blob.core.windows.net/facebook-assets/hd-933913194646448...\n",
            "Video 49 downloaded successfully!\n",
            "Downloading video 50 from https://fgimagestorage.blob.core.windows.net/facebook-assets/hd-933773150951550...\n",
            "Video 50 downloaded successfully!\n",
            "Downloading video 51 from https://fgimagestorage.blob.core.windows.net/facebook-assets/hd-932703258597949...\n",
            "Video 51 downloaded successfully!\n",
            "Downloading video 52 from https://fgimagestorage.blob.core.windows.net/facebook-assets/hd-932296771464171...\n",
            "Video 52 downloaded successfully!\n",
            "Downloading video 53 from https://fgimagestorage.blob.core.windows.net/facebook-assets/hd-932085787962122...\n",
            "Video 53 downloaded successfully!\n",
            "Downloading video 54 from https://fgimagestorage.blob.core.windows.net/facebook-assets/hd-932038864470963...\n",
            "Video 54 downloaded successfully!\n",
            "Downloading video 55 from https://fgimagestorage.blob.core.windows.net/facebook-assets/hd-930116227971248...\n",
            "Video 55 downloaded successfully!\n",
            "Downloading video 56 from https://fgimagestorage.blob.core.windows.net/facebook-assets/hd-929830031529018...\n",
            "Video 56 downloaded successfully!\n",
            "Downloading video 57 from https://fgimagestorage.blob.core.windows.net/facebook-assets/hd-929511878466995...\n",
            "Video 57 downloaded successfully!\n",
            "Downloading video 58 from https://fgimagestorage.blob.core.windows.net/facebook-assets/hd-929300948587514...\n",
            "Video 58 downloaded successfully!\n",
            "Downloading video 59 from https://fgimagestorage.blob.core.windows.net/facebook-assets/hd-925596815118953...\n",
            "Video 59 downloaded successfully!\n",
            "Downloading video 60 from https://fgimagestorage.blob.core.windows.net/facebook-assets/hd-925260332281638...\n",
            "Video 60 downloaded successfully!\n",
            "Downloading video 61 from https://fgimagestorage.blob.core.windows.net/facebook-assets/hd-924865635226814...\n",
            "Video 61 downloaded successfully!\n",
            "Downloading video 62 from https://fgimagestorage.blob.core.windows.net/facebook-assets/hd-924585008982148...\n",
            "Video 62 downloaded successfully!\n",
            "Downloading video 63 from https://fgimagestorage.blob.core.windows.net/facebook-assets/hd-621652523105267...\n",
            "Video 63 downloaded successfully!\n",
            "Downloading video 64 from https://fgimagestorage.blob.core.windows.net/facebook-assets/hd-621266003076530...\n",
            "Video 64 downloaded successfully!\n",
            "Downloading video 65 from https://fgimagestorage.blob.core.windows.net/facebook-assets/hd-620702145697389...\n",
            "Video 65 downloaded successfully!\n",
            "Downloading video 66 from https://fgimagestorage.blob.core.windows.net/facebook-assets/hd-620154813059921...\n",
            "Video 66 downloaded successfully!\n",
            "Downloading video 67 from https://fgimagestorage.blob.core.windows.net/facebook-assets/hd-618555366744628...\n",
            "Video 67 downloaded successfully!\n",
            "Downloading video 68 from https://fgimagestorage.blob.core.windows.net/facebook-assets/hd-6174004652651971...\n",
            "Video 68 downloaded successfully!\n",
            "Downloading video 69 from https://fgimagestorage.blob.core.windows.net/facebook-assets/hd-617288786873081...\n",
            "Video 69 downloaded successfully!\n",
            "Downloading video 70 from https://fgimagestorage.blob.core.windows.net/facebook-assets/hd-6172742522782221...\n",
            "Video 70 downloaded successfully!\n",
            "Downloading video 71 from https://fgimagestorage.blob.core.windows.net/facebook-assets/hd-613417017284998...\n",
            "Video 71 downloaded successfully!\n",
            "Downloading video 72 from https://fgimagestorage.blob.core.windows.net/facebook-assets/hd-613197413789434...\n",
            "Video 72 downloaded successfully!\n",
            "Downloading video 73 from https://fgimagestorage.blob.core.windows.net/facebook-assets/hd-613152173490344...\n",
            "Video 73 downloaded successfully!\n",
            "Downloading video 74 from https://fgimagestorage.blob.core.windows.net/facebook-assets/hd-612555930635832...\n",
            "Video 74 downloaded successfully!\n",
            "Downloading video 75 from https://fgimagestorage.blob.core.windows.net/facebook-assets/hd-612426467555072...\n",
            "Video 75 downloaded successfully!\n",
            "Downloading video 76 from https://fgimagestorage.blob.core.windows.net/facebook-assets/hd-611188517518682...\n",
            "Video 76 downloaded successfully!\n",
            "Downloading video 77 from https://fgimagestorage.blob.core.windows.net/facebook-assets/hd-6107397609317402...\n",
            "Video 77 downloaded successfully!\n",
            "Downloading video 78 from https://fgimagestorage.blob.core.windows.net/facebook-assets/hd-6096104653784047...\n",
            "Video 78 downloaded successfully!\n",
            "Downloading video 79 from https://fgimagestorage.blob.core.windows.net/facebook-assets/hd-606237444463640...\n",
            "Video 79 downloaded successfully!\n",
            "Downloading video 80 from https://fgimagestorage.blob.core.windows.net/facebook-assets/hd-605272664726548...\n",
            "Video 80 downloaded successfully!\n",
            "Downloading video 81 from https://fgimagestorage.blob.core.windows.net/facebook-assets/hd-6046690562050296...\n",
            "Video 81 downloaded successfully!\n",
            "Downloading video 82 from https://fgimagestorage.blob.core.windows.net/facebook-assets/hd-604285914607200...\n",
            "Video 82 downloaded successfully!\n",
            "Downloading video 83 from https://fgimagestorage.blob.core.windows.net/facebook-assets/hd-604041931565137...\n",
            "Video 83 downloaded successfully!\n",
            "Downloading video 84 from https://fgimagestorage.blob.core.windows.net/facebook-assets/hd-603099807587246...\n",
            "Video 84 downloaded successfully!\n",
            "Downloading video 85 from https://fgimagestorage.blob.core.windows.net/facebook-assets/hd-911926190614858...\n",
            "Video 85 downloaded successfully!\n",
            "Downloading video 86 from https://fgimagestorage.blob.core.windows.net/facebook-assets/hd-911482386703699...\n",
            "Video 86 downloaded successfully!\n",
            "Downloading video 87 from https://fgimagestorage.blob.core.windows.net/facebook-assets/hd-911172609864769...\n",
            "Video 87 downloaded successfully!\n",
            "Downloading video 88 from https://fgimagestorage.blob.core.windows.net/facebook-assets/hd-910958533691058...\n",
            "Video 88 downloaded successfully!\n",
            "Downloading video 89 from https://fgimagestorage.blob.core.windows.net/facebook-assets/hd-909937876815529...\n",
            "Video 89 downloaded successfully!\n",
            "Downloading video 90 from https://fgimagestorage.blob.core.windows.net/facebook-assets/hd-909110383822260...\n",
            "Video 90 downloaded successfully!\n",
            "Downloading video 91 from https://fgimagestorage.blob.core.windows.net/facebook-assets/hd-909067460285978...\n",
            "Video 91 downloaded successfully!\n",
            "Downloading video 92 from https://fgimagestorage.blob.core.windows.net/facebook-assets/hd-907416560296782...\n",
            "Video 92 downloaded successfully!\n",
            "Downloading video 93 from https://fgimagestorage.blob.core.windows.net/facebook-assets/hd-906909830682725...\n",
            "Video 93 downloaded successfully!\n",
            "Downloading video 94 from https://fgimagestorage.blob.core.windows.net/facebook-assets/hd-906506897404894...\n",
            "Video 94 downloaded successfully!\n",
            "Downloading video 95 from https://fgimagestorage.blob.core.windows.net/facebook-assets/hd-905844110841635...\n",
            "Video 95 downloaded successfully!\n",
            "Downloading video 96 from https://fgimagestorage.blob.core.windows.net/facebook-assets/hd-905739711170399...\n",
            "Video 96 downloaded successfully!\n",
            "Downloading video 97 from https://fgimagestorage.blob.core.windows.net/facebook-assets/hd-905545323817883...\n",
            "Video 97 downloaded successfully!\n",
            "Downloading video 98 from https://fgimagestorage.blob.core.windows.net/facebook-assets/hd-904815481005158...\n",
            "Video 98 downloaded successfully!\n",
            "Downloading video 99 from https://fgimagestorage.blob.core.windows.net/facebook-assets/hd-904480964010630...\n",
            "Video 99 downloaded successfully!\n",
            "Downloading video 100 from https://fgimagestorage.blob.core.windows.net/facebook-assets/hd-904174908300812...\n",
            "Video 100 downloaded successfully!\n",
            "Downloading video 101 from https://fgimagestorage.blob.core.windows.net/facebook-assets/hd-903960640750545...\n",
            "Video 101 downloaded successfully!\n",
            "Downloading video 102 from https://fgimagestorage.blob.core.windows.net/facebook-assets/hd-903913985069116...\n",
            "Video 102 downloaded successfully!\n",
            "Downloading video 103 from https://fgimagestorage.blob.core.windows.net/facebook-assets/hd-903060767715541...\n",
            "Video 103 downloaded successfully!\n",
            "Downloading video 104 from https://fgimagestorage.blob.core.windows.net/facebook-assets/hd-902843234362370...\n",
            "Video 104 downloaded successfully!\n",
            "Downloading video 105 from https://fgimagestorage.blob.core.windows.net/facebook-assets/hd-902456848100089...\n",
            "Video 105 downloaded successfully!\n",
            "Downloading video 106 from https://fgimagestorage.blob.core.windows.net/facebook-assets/hd-902309670925392...\n",
            "Video 106 downloaded successfully!\n",
            "Downloading video 107 from https://fgimagestorage.blob.core.windows.net/facebook-assets/hd-9020567984620018...\n",
            "Video 107 downloaded successfully!\n",
            "Downloading video 108 from https://fgimagestorage.blob.core.windows.net/facebook-assets/hd-901695498551491...\n",
            "Video 108 downloaded successfully!\n",
            "Downloading video 109 from https://fgimagestorage.blob.core.windows.net/facebook-assets/hd-901272811190482...\n",
            "Video 109 downloaded successfully!\n",
            "Downloading video 110 from https://fgimagestorage.blob.core.windows.net/facebook-assets/hd-899987727789409...\n",
            "Video 110 downloaded successfully!\n",
            "Downloading video 111 from https://fgimagestorage.blob.core.windows.net/facebook-assets/hd-8995485367146316...\n",
            "Video 111 downloaded successfully!\n",
            "Downloading video 112 from https://fgimagestorage.blob.core.windows.net/facebook-assets/hd-899155277883965...\n",
            "Video 112 downloaded successfully!\n",
            "Downloading video 113 from https://fgimagestorage.blob.core.windows.net/facebook-assets/hd-898967424867870...\n",
            "Video 113 downloaded successfully!\n",
            "Downloading video 114 from https://fgimagestorage.blob.core.windows.net/facebook-assets/hd-898402801287469...\n",
            "Video 114 downloaded successfully!\n",
            "Downloading video 115 from https://fgimagestorage.blob.core.windows.net/facebook-assets/hd-898103501380741...\n",
            "Video 115 downloaded successfully!\n",
            "Downloading video 116 from https://fgimagestorage.blob.core.windows.net/facebook-assets/hd-897680994566577...\n",
            "Video 116 downloaded successfully!\n",
            "Downloading video 117 from https://fgimagestorage.blob.core.windows.net/facebook-assets/hd-897088088160051...\n",
            "Video 117 downloaded successfully!\n",
            "Downloading video 118 from https://fgimagestorage.blob.core.windows.net/facebook-assets/hd-896843165102015...\n",
            "Video 118 downloaded successfully!\n",
            "Downloading video 119 from https://fgimagestorage.blob.core.windows.net/facebook-assets/hd-896598988012982...\n",
            "Video 119 downloaded successfully!\n",
            "Downloading video 120 from https://fgimagestorage.blob.core.windows.net/facebook-assets/hd-896589688256009...\n",
            "Video 120 downloaded successfully!\n",
            "Downloading video 121 from https://fgimagestorage.blob.core.windows.net/facebook-assets/hd-895042408159688...\n",
            "Video 121 downloaded successfully!\n",
            "Downloading video 122 from https://fgimagestorage.blob.core.windows.net/facebook-assets/hd-894559812351386...\n",
            "Video 122 downloaded successfully!\n",
            "Downloading video 123 from https://fgimagestorage.blob.core.windows.net/facebook-assets/hd-894559522288371...\n",
            "Video 123 downloaded successfully!\n",
            "Downloading video 124 from https://fgimagestorage.blob.core.windows.net/facebook-assets/hd-894457734962164...\n",
            "Video 124 downloaded successfully!\n",
            "Downloading video 125 from https://fgimagestorage.blob.core.windows.net/facebook-assets/hd-894066258497958...\n",
            "Video 125 downloaded successfully!\n",
            "Downloading video 126 from https://fgimagestorage.blob.core.windows.net/facebook-assets/hd-893539262677484...\n",
            "Video 126 downloaded successfully!\n",
            "Downloading video 127 from https://fgimagestorage.blob.core.windows.net/facebook-assets/hd-893173505441981...\n",
            "Video 127 downloaded successfully!\n",
            "Downloading video 128 from https://fgimagestorage.blob.core.windows.net/facebook-assets/hd-892383375224287...\n",
            "Video 128 downloaded successfully!\n",
            "Downloading video 129 from https://fgimagestorage.blob.core.windows.net/facebook-assets/hd-891684945300160...\n",
            "Video 129 downloaded successfully!\n",
            "Downloading video 130 from https://fgimagestorage.blob.core.windows.net/facebook-assets/hd-891661008828094...\n",
            "Video 130 downloaded successfully!\n",
            "Downloading video 131 from https://fgimagestorage.blob.core.windows.net/facebook-assets/hd-891391212618023...\n",
            "Video 131 downloaded successfully!\n",
            "Downloading video 132 from https://fgimagestorage.blob.core.windows.net/facebook-assets/hd-890166872024685...\n",
            "Video 132 downloaded successfully!\n",
            "Downloading video 133 from https://fgimagestorage.blob.core.windows.net/facebook-assets/hd-890005255637433...\n",
            "Video 133 downloaded successfully!\n",
            "Downloading video 134 from https://fgimagestorage.blob.core.windows.net/facebook-assets/hd-889728479746704...\n",
            "Video 134 downloaded successfully!\n",
            "Downloading video 135 from https://fgimagestorage.blob.core.windows.net/facebook-assets/hd-889604775414234...\n",
            "Video 135 downloaded successfully!\n",
            "Downloading video 136 from https://fgimagestorage.blob.core.windows.net/facebook-assets/hd-889375178765113...\n",
            "Video 136 downloaded successfully!\n",
            "Downloading video 137 from https://fgimagestorage.blob.core.windows.net/facebook-assets/hd-888593019388197...\n",
            "Video 137 downloaded successfully!\n",
            "Downloading video 138 from https://fgimagestorage.blob.core.windows.net/facebook-assets/hd-888183703182855...\n",
            "Video 138 downloaded successfully!\n",
            "Downloading video 139 from https://fgimagestorage.blob.core.windows.net/facebook-assets/hd-888062106715252...\n",
            "Video 139 downloaded successfully!\n",
            "Downloading video 140 from https://fgimagestorage.blob.core.windows.net/facebook-assets/hd-888056015719840...\n",
            "Video 140 downloaded successfully!\n",
            "Downloading video 141 from https://fgimagestorage.blob.core.windows.net/facebook-assets/hd-887363366529815...\n",
            "Video 141 downloaded successfully!\n",
            "Downloading video 142 from https://fgimagestorage.blob.core.windows.net/facebook-assets/hd-886609482926268...\n",
            "Video 142 downloaded successfully!\n",
            "Downloading video 143 from https://fgimagestorage.blob.core.windows.net/facebook-assets/hd-886049645973007...\n",
            "Video 143 downloaded successfully!\n",
            "Downloading video 144 from https://fgimagestorage.blob.core.windows.net/facebook-assets/hd-885689066019680...\n",
            "Video 144 downloaded successfully!\n",
            "Downloading video 145 from https://fgimagestorage.blob.core.windows.net/facebook-assets/hd-885670366433640...\n",
            "Video 145 downloaded successfully!\n",
            "Downloading video 146 from https://fgimagestorage.blob.core.windows.net/facebook-assets/hd-885209946993560...\n",
            "Video 146 downloaded successfully!\n",
            "Downloading video 147 from https://fgimagestorage.blob.core.windows.net/facebook-assets/hd-883738210384679...\n",
            "Video 147 downloaded successfully!\n",
            "Downloading video 148 from https://fgimagestorage.blob.core.windows.net/facebook-assets/hd-883246492824014...\n",
            "Video 148 downloaded successfully!\n",
            "Downloading video 149 from https://fgimagestorage.blob.core.windows.net/facebook-assets/hd-882993126248062...\n",
            "Video 149 downloaded successfully!\n",
            "Downloading video 150 from https://fgimagestorage.blob.core.windows.net/facebook-assets/hd-8828692983838031...\n",
            "Video 150 downloaded successfully!\n",
            "Downloading video 151 from https://fgimagestorage.blob.core.windows.net/facebook-assets/hd-882867522830120...\n",
            "Video 151 downloaded successfully!\n",
            "Downloading video 152 from https://fgimagestorage.blob.core.windows.net/facebook-assets/hd-882019143545185...\n",
            "Video 152 downloaded successfully!\n",
            "Downloading video 153 from https://fgimagestorage.blob.core.windows.net/facebook-assets/hd-881925359723909...\n",
            "Video 153 downloaded successfully!\n",
            "Downloading video 154 from https://fgimagestorage.blob.core.windows.net/facebook-assets/hd-8816515918390519...\n",
            "Video 154 downloaded successfully!\n",
            "Downloading video 155 from https://fgimagestorage.blob.core.windows.net/facebook-assets/hd-881342303358042...\n",
            "Video 155 downloaded successfully!\n",
            "Downloading video 156 from https://fgimagestorage.blob.core.windows.net/facebook-assets/hd-881270063889884...\n",
            "Video 156 downloaded successfully!\n",
            "Downloading video 157 from https://fgimagestorage.blob.core.windows.net/facebook-assets/hd-8806609246079208...\n",
            "Video 157 downloaded successfully!\n",
            "Downloading video 158 from https://fgimagestorage.blob.core.windows.net/facebook-assets/hd-880568190186256...\n",
            "Video 158 downloaded successfully!\n",
            "Downloading video 159 from https://fgimagestorage.blob.core.windows.net/facebook-assets/hd-880340126836307...\n",
            "Video 159 downloaded successfully!\n",
            "Downloading video 160 from https://fgimagestorage.blob.core.windows.net/facebook-assets/hd-8796411607036992...\n",
            "Video 160 downloaded successfully!\n",
            "Downloading video 161 from https://fgimagestorage.blob.core.windows.net/facebook-assets/hd-879631723735807...\n",
            "Video 161 downloaded successfully!\n",
            "Downloading video 162 from https://fgimagestorage.blob.core.windows.net/facebook-assets/hd-879049300656635...\n",
            "Video 162 downloaded successfully!\n",
            "Downloading video 163 from https://fgimagestorage.blob.core.windows.net/facebook-assets/hd-877975993416760...\n",
            "Video 163 downloaded successfully!\n",
            "Downloading video 164 from https://fgimagestorage.blob.core.windows.net/facebook-assets/hd-877662697022279...\n",
            "Video 164 downloaded successfully!\n",
            "Downloading video 165 from https://fgimagestorage.blob.core.windows.net/facebook-assets/hd-877511836784655...\n",
            "Video 165 downloaded successfully!\n",
            "Downloading video 166 from https://fgimagestorage.blob.core.windows.net/facebook-assets/hd-877210454387561...\n",
            "Video 166 downloaded successfully!\n",
            "Downloading video 167 from https://fgimagestorage.blob.core.windows.net/facebook-assets/hd-877129693575192...\n",
            "Video 167 downloaded successfully!\n",
            "Downloading video 168 from https://fgimagestorage.blob.core.windows.net/facebook-assets/hd-876239523982490...\n",
            "Video 168 downloaded successfully!\n",
            "Downloading video 169 from https://fgimagestorage.blob.core.windows.net/facebook-assets/hd-876121221160846...\n",
            "Video 169 downloaded successfully!\n",
            "Downloading video 170 from https://fgimagestorage.blob.core.windows.net/facebook-assets/hd-875485623676104...\n",
            "Video 170 downloaded successfully!\n",
            "Downloading video 171 from https://fgimagestorage.blob.core.windows.net/facebook-assets/hd-874864704574925...\n",
            "Video 171 downloaded successfully!\n",
            "Downloading video 172 from https://fgimagestorage.blob.core.windows.net/facebook-assets/hd-874747697073121...\n",
            "Video 172 downloaded successfully!\n",
            "Downloading video 173 from https://fgimagestorage.blob.core.windows.net/facebook-assets/hd-874543520932484...\n",
            "Video 173 downloaded successfully!\n",
            "Downloading video 174 from https://fgimagestorage.blob.core.windows.net/facebook-assets/hd-874190910572544...\n",
            "Video 174 downloaded successfully!\n",
            "Downloading video 175 from https://fgimagestorage.blob.core.windows.net/facebook-assets/hd-874084244131796...\n",
            "Video 175 downloaded successfully!\n",
            "Downloading video 176 from https://fgimagestorage.blob.core.windows.net/facebook-assets/hd-873560550525047...\n",
            "Video 176 downloaded successfully!\n",
            "Downloading video 177 from https://fgimagestorage.blob.core.windows.net/facebook-assets/hd-873317140849832...\n",
            "Video 177 downloaded successfully!\n",
            "Downloading video 178 from https://fgimagestorage.blob.core.windows.net/facebook-assets/hd-873043573965895...\n",
            "Video 178 downloaded successfully!\n",
            "Downloading video 179 from https://fgimagestorage.blob.core.windows.net/facebook-assets/hd-872760463806517...\n",
            "Video 179 downloaded successfully!\n",
            "Downloading video 180 from https://fgimagestorage.blob.core.windows.net/facebook-assets/hd-872400620956045...\n",
            "Video 180 downloaded successfully!\n",
            "Downloading video 181 from https://fgimagestorage.blob.core.windows.net/facebook-assets/hd-872222594086011...\n",
            "Video 181 downloaded successfully!\n",
            "Downloading video 182 from https://fgimagestorage.blob.core.windows.net/facebook-assets/hd-872188860590219...\n",
            "Video 182 downloaded successfully!\n",
            "Downloading video 183 from https://fgimagestorage.blob.core.windows.net/facebook-assets/hd-871981848375866...\n",
            "Video 183 downloaded successfully!\n",
            "Downloading video 184 from https://fgimagestorage.blob.core.windows.net/facebook-assets/hd-8715627171842855...\n",
            "Video 184 downloaded successfully!\n",
            "Downloading video 185 from https://fgimagestorage.blob.core.windows.net/facebook-assets/hd-871286287458461...\n",
            "Video 185 downloaded successfully!\n",
            "Downloading video 186 from https://fgimagestorage.blob.core.windows.net/facebook-assets/hd-871185627435460...\n",
            "Video 186 downloaded successfully!\n",
            "Downloading video 187 from https://fgimagestorage.blob.core.windows.net/facebook-assets/hd-871075730546911...\n",
            "Video 187 downloaded successfully!\n",
            "Downloading video 188 from https://fgimagestorage.blob.core.windows.net/facebook-assets/hd-871037203883530...\n",
            "Video 188 downloaded successfully!\n",
            "Downloading video 189 from https://fgimagestorage.blob.core.windows.net/facebook-assets/hd-819765763526762...\n",
            "Video 189 downloaded successfully!\n",
            "Downloading video 190 from https://fgimagestorage.blob.core.windows.net/facebook-assets/hd-818776323774715...\n",
            "Video 190 downloaded successfully!\n",
            "Downloading video 191 from https://fgimagestorage.blob.core.windows.net/facebook-assets/hd-818462803696191...\n",
            "Video 191 downloaded successfully!\n",
            "Downloading video 192 from https://fgimagestorage.blob.core.windows.net/facebook-assets/hd-817768845898837...\n",
            "Video 192 downloaded successfully!\n",
            "Downloading video 193 from https://fgimagestorage.blob.core.windows.net/facebook-assets/hd-817763467176157...\n",
            "Video 193 downloaded successfully!\n",
            "Downloading video 194 from https://fgimagestorage.blob.core.windows.net/facebook-assets/hd-817477363934899...\n",
            "Video 194 downloaded successfully!\n",
            "Downloading video 195 from https://fgimagestorage.blob.core.windows.net/facebook-assets/hd-817475239730695...\n",
            "Video 195 downloaded successfully!\n",
            "Downloading video 196 from https://fgimagestorage.blob.core.windows.net/facebook-assets/hd-817135236672734...\n",
            "Video 196 downloaded successfully!\n",
            "Downloading video 197 from https://fgimagestorage.blob.core.windows.net/facebook-assets/hd-816335920524988...\n",
            "Video 197 downloaded successfully!\n",
            "Downloading video 198 from https://fgimagestorage.blob.core.windows.net/facebook-assets/hd-815391233916449...\n",
            "Video 198 downloaded successfully!\n",
            "Downloading video 199 from https://fgimagestorage.blob.core.windows.net/facebook-assets/hd-814072014151046...\n",
            "Video 199 downloaded successfully!\n",
            "Downloading video 200 from https://fgimagestorage.blob.core.windows.net/facebook-assets/hd-813828049840959...\n",
            "Video 200 downloaded successfully!\n",
            "Downloading video 201 from https://fgimagestorage.blob.core.windows.net/facebook-assets/hd-811606650922029...\n",
            "Video 201 downloaded successfully!\n",
            "Downloading video 202 from https://fgimagestorage.blob.core.windows.net/facebook-assets/hd-8111507755613955...\n",
            "Video 202 downloaded successfully!\n",
            "Downloading video 203 from https://fgimagestorage.blob.core.windows.net/facebook-assets/hd-8100667816697710...\n",
            "Video 203 downloaded successfully!\n",
            "Downloading video 204 from https://fgimagestorage.blob.core.windows.net/facebook-assets/hd-809480737932683...\n",
            "Video 204 downloaded successfully!\n",
            "Downloading video 205 from https://fgimagestorage.blob.core.windows.net/facebook-assets/hd-808321904744283...\n",
            "Video 205 downloaded successfully!\n",
            "Downloading video 206 from https://fgimagestorage.blob.core.windows.net/facebook-assets/hd-808097524590260...\n",
            "Video 206 downloaded successfully!\n",
            "Downloading video 207 from https://fgimagestorage.blob.core.windows.net/facebook-assets/hd-807800198130528...\n",
            "Video 207 downloaded successfully!\n",
            "Downloading video 208 from https://fgimagestorage.blob.core.windows.net/facebook-assets/hd-806751788307038...\n",
            "Video 208 downloaded successfully!\n",
            "Downloading video 209 from https://fgimagestorage.blob.core.windows.net/facebook-assets/hd-8057957437624799...\n",
            "Video 209 downloaded successfully!\n",
            "Downloading video 210 from https://fgimagestorage.blob.core.windows.net/facebook-assets/hd-803990118540094...\n",
            "Video 210 downloaded successfully!\n",
            "Downloading video 211 from https://fgimagestorage.blob.core.windows.net/facebook-assets/hd-803897110603133...\n",
            "Video 211 downloaded successfully!\n",
            "Downloading video 212 from https://fgimagestorage.blob.core.windows.net/facebook-assets/hd-802443478544141...\n",
            "Video 212 downloaded successfully!\n",
            "Downloading video 213 from https://fgimagestorage.blob.core.windows.net/facebook-assets/hd-8008073409211713...\n",
            "Video 213 downloaded successfully!\n",
            "Downloading video 214 from https://fgimagestorage.blob.core.windows.net/facebook-assets/hd-7995631707140182...\n",
            "Video 214 downloaded successfully!\n",
            "Downloading video 215 from https://fgimagestorage.blob.core.windows.net/facebook-assets/hd-797179088937277...\n",
            "Video 215 downloaded successfully!\n",
            "Downloading video 216 from https://fgimagestorage.blob.core.windows.net/facebook-assets/hd-797024995612413...\n",
            "Video 216 downloaded successfully!\n",
            "Downloading video 217 from https://fgimagestorage.blob.core.windows.net/facebook-assets/hd-796944101940903...\n",
            "Video 217 downloaded successfully!\n",
            "Downloading video 218 from https://fgimagestorage.blob.core.windows.net/facebook-assets/hd-793257836073148...\n",
            "Video 218 downloaded successfully!\n",
            "Downloading video 219 from https://fgimagestorage.blob.core.windows.net/facebook-assets/hd-791572172961239...\n",
            "Video 219 downloaded successfully!\n",
            "Downloading video 220 from https://fgimagestorage.blob.core.windows.net/facebook-assets/hd-790055392972248...\n",
            "Video 220 downloaded successfully!\n",
            "Downloading video 221 from https://fgimagestorage.blob.core.windows.net/facebook-assets/hd-789793989900194...\n",
            "Video 221 downloaded successfully!\n",
            "Downloading video 222 from https://fgimagestorage.blob.core.windows.net/facebook-assets/hd-789715035654710...\n",
            "Video 222 downloaded successfully!\n",
            "Downloading video 223 from https://fgimagestorage.blob.core.windows.net/facebook-assets/hd-786610583313461...\n",
            "Video 223 downloaded successfully!\n",
            "Downloading video 224 from https://fgimagestorage.blob.core.windows.net/facebook-assets/hd-696006115320413...\n",
            "Video 224 downloaded successfully!\n",
            "Downloading video 225 from https://fgimagestorage.blob.core.windows.net/facebook-assets/hd-695130362192250...\n",
            "Video 225 downloaded successfully!\n",
            "Downloading video 226 from https://fgimagestorage.blob.core.windows.net/facebook-assets/hd-694675672308301...\n",
            "Video 226 downloaded successfully!\n",
            "Downloading video 227 from https://fgimagestorage.blob.core.windows.net/facebook-assets/hd-693988272279384...\n",
            "Video 227 downloaded successfully!\n",
            "Downloading video 228 from https://fgimagestorage.blob.core.windows.net/facebook-assets/hd-691857912087615...\n",
            "Video 228 downloaded successfully!\n",
            "Downloading video 229 from https://fgimagestorage.blob.core.windows.net/facebook-assets/hd-691581235967071...\n",
            "Video 229 downloaded successfully!\n",
            "Downloading video 230 from https://fgimagestorage.blob.core.windows.net/facebook-assets/hd-691252805779835...\n",
            "Video 230 downloaded successfully!\n",
            "Downloading video 231 from https://fgimagestorage.blob.core.windows.net/facebook-assets/hd-690670309134450...\n",
            "Video 231 downloaded successfully!\n",
            "Downloading video 232 from https://fgimagestorage.blob.core.windows.net/facebook-assets/hd-690541956158254...\n",
            "Video 232 downloaded successfully!\n",
            "Downloading video 233 from https://fgimagestorage.blob.core.windows.net/facebook-assets/hd-689771035910864...\n",
            "Video 233 downloaded successfully!\n",
            "Downloading video 234 from https://fgimagestorage.blob.core.windows.net/facebook-assets/hd-689599909618915...\n",
            "Video 234 downloaded successfully!\n",
            "Downloading video 235 from https://fgimagestorage.blob.core.windows.net/facebook-assets/hd-689363059404444...\n",
            "Video 235 downloaded successfully!\n",
            "Downloading video 236 from https://fgimagestorage.blob.core.windows.net/facebook-assets/hd-688887926060399...\n",
            "Video 236 downloaded successfully!\n",
            "Downloading video 237 from https://fgimagestorage.blob.core.windows.net/facebook-assets/hd-687665956347322...\n",
            "Video 237 downloaded successfully!\n",
            "Downloading video 238 from https://fgimagestorage.blob.core.windows.net/facebook-assets/hd-687024156350870...\n",
            "Video 238 downloaded successfully!\n",
            "Downloading video 239 from https://fgimagestorage.blob.core.windows.net/facebook-assets/hd-686488653080244...\n",
            "Video 239 downloaded successfully!\n",
            "Downloading video 240 from https://fgimagestorage.blob.core.windows.net/facebook-assets/hd-686083626588321...\n",
            "Video 240 downloaded successfully!\n",
            "Downloading video 241 from https://fgimagestorage.blob.core.windows.net/facebook-assets/hd-684364333171304...\n",
            "Video 241 downloaded successfully!\n",
            "Downloading video 242 from https://fgimagestorage.blob.core.windows.net/facebook-assets/hd-684264882912286...\n",
            "Video 242 downloaded successfully!\n",
            "Downloading video 243 from https://fgimagestorage.blob.core.windows.net/facebook-assets/hd-6837957766319053...\n",
            "Video 243 downloaded successfully!\n",
            "Downloading video 244 from https://fgimagestorage.blob.core.windows.net/facebook-assets/hd-682791943270614...\n",
            "Video 244 downloaded successfully!\n",
            "Downloading video 245 from https://fgimagestorage.blob.core.windows.net/facebook-assets/hd-682596103528135...\n",
            "Video 245 downloaded successfully!\n",
            "Downloading video 246 from https://fgimagestorage.blob.core.windows.net/facebook-assets/hd-680549530054789...\n",
            "Video 246 downloaded successfully!\n",
            "Downloading video 247 from https://fgimagestorage.blob.core.windows.net/facebook-assets/hd-680540137074841...\n",
            "Video 247 downloaded successfully!\n",
            "Downloading video 248 from https://fgimagestorage.blob.core.windows.net/facebook-assets/hd-680162593779089...\n",
            "Video 248 downloaded successfully!\n",
            "Downloading video 249 from https://fgimagestorage.blob.core.windows.net/facebook-assets/hd-679261516829908...\n",
            "Video 249 downloaded successfully!\n",
            "Downloading video 250 from https://fgimagestorage.blob.core.windows.net/facebook-assets/hd-678133704039459...\n",
            "Video 250 downloaded successfully!\n",
            "Downloading video 251 from https://fgimagestorage.blob.core.windows.net/facebook-assets/hd-676770877464110...\n",
            "Video 251 downloaded successfully!\n",
            "Downloading video 252 from https://fgimagestorage.blob.core.windows.net/facebook-assets/hd-6764280623620361...\n",
            "Video 252 downloaded successfully!\n",
            "Downloading video 253 from https://fgimagestorage.blob.core.windows.net/facebook-assets/hd-673961584214053...\n",
            "Video 253 downloaded successfully!\n",
            "Downloading video 254 from https://fgimagestorage.blob.core.windows.net/facebook-assets/hd-6720438181324436...\n",
            "Video 254 downloaded successfully!\n",
            "Downloading video 255 from https://fgimagestorage.blob.core.windows.net/facebook-assets/hd-671839840899900...\n",
            "Video 255 downloaded successfully!\n",
            "Downloading video 256 from https://fgimagestorage.blob.core.windows.net/facebook-assets/hd-429145826826558...\n",
            "Video 256 downloaded successfully!\n",
            "Downloading video 257 from https://fgimagestorage.blob.core.windows.net/facebook-assets/hd-427878012859864...\n",
            "Video 257 downloaded successfully!\n",
            "Downloading video 258 from https://fgimagestorage.blob.core.windows.net/facebook-assets/hd-426644026275739...\n",
            "Video 258 downloaded successfully!\n",
            "Downloading video 259 from https://fgimagestorage.blob.core.windows.net/facebook-assets/hd-425151876539382...\n",
            "Video 259 downloaded successfully!\n",
            "Downloading video 260 from https://fgimagestorage.blob.core.windows.net/facebook-assets/hd-424802420355057...\n",
            "Video 260 downloaded successfully!\n",
            "Downloading video 261 from https://fgimagestorage.blob.core.windows.net/facebook-assets/hd-424394867097391...\n",
            "Video 261 downloaded successfully!\n",
            "Downloading video 262 from https://fgimagestorage.blob.core.windows.net/facebook-assets/hd-1698824364241828...\n",
            "Video 262 downloaded successfully!\n",
            "Downloading video 263 from https://fgimagestorage.blob.core.windows.net/facebook-assets/hd-1693566687752051...\n",
            "Video 263 downloaded successfully!\n",
            "Downloading video 264 from https://fgimagestorage.blob.core.windows.net/facebook-assets/hd-1689212771862832...\n",
            "Video 264 downloaded successfully!\n",
            "Downloading video 265 from https://fgimagestorage.blob.core.windows.net/facebook-assets/hd-1685108828975354...\n",
            "Video 265 downloaded successfully!\n",
            "Downloading video 266 from https://fgimagestorage.blob.core.windows.net/facebook-assets/hd-1119706949586170...\n",
            "Video 266 downloaded successfully!\n",
            "Downloading video 267 from https://fgimagestorage.blob.core.windows.net/facebook-assets/hd-1119272995406354...\n",
            "Video 267 downloaded successfully!\n",
            "Downloading video 268 from https://fgimagestorage.blob.core.windows.net/facebook-assets/hd-1118763132933218...\n",
            "Video 268 downloaded successfully!\n"
          ]
        }
      ]
    },
    {
      "cell_type": "code",
      "source": [
        "import os\n",
        "\n",
        "# List all files in the 'videos' folder\n",
        "video_folder = '/content/videos'\n",
        "video_files = os.listdir(video_folder)\n",
        "\n",
        "# Display the first few files to check\n",
        "print(video_files[:10])\n",
        "\n",
        "# Example: Assuming video names are in the format 'video_1.mp4', 'video_2.mp4', etc.\n",
        "data['video_file'] = data['Video URL'].apply(lambda x: x.split('/')[-1] + '.mp4')  # Adjust based on your naming convention\n",
        "\n",
        "# Display the first few rows of the DataFrame to confirm the match\n",
        "print(data[['Video URL', 'video_file']].head())\n"
      ],
      "metadata": {
        "colab": {
          "base_uri": "https://localhost:8080/"
        },
        "id": "PLjEq1eeG6yv",
        "outputId": "9d06745f-4986-4251-9509-5b3fe8090e98"
      },
      "execution_count": 5,
      "outputs": [
        {
          "output_type": "stream",
          "name": "stdout",
          "text": [
            "['video_179.mp4', 'video_67.mp4', 'video_147.mp4', 'video_264.mp4', 'video_220.mp4', 'video_91.mp4', 'video_72.mp4', 'video_15.mp4', 'video_148.mp4', 'video_57.mp4']\n",
            "                                           Video URL              video_file\n",
            "0  https://fgimagestorage.blob.core.windows.net/f...  hd-999607261342550.mp4\n",
            "1  https://fgimagestorage.blob.core.windows.net/f...  hd-997580728807604.mp4\n",
            "2  https://fgimagestorage.blob.core.windows.net/f...  hd-992418235673669.mp4\n",
            "3  https://fgimagestorage.blob.core.windows.net/f...  hd-992064161877405.mp4\n",
            "4  https://fgimagestorage.blob.core.windows.net/f...  hd-991636695150147.mp4\n"
          ]
        }
      ]
    },
    {
      "cell_type": "code",
      "source": [
        "import os\n",
        "\n",
        "# List all video files in the 'videos' folder\n",
        "video_folder = '/content/videos'\n",
        "video_files = os.listdir(video_folder)\n",
        "\n",
        "# Check if the files in the DataFrame exist in the folder\n",
        "data['video_exists'] = data['video_file'].apply(lambda x: x in video_files)\n",
        "\n",
        "# Display rows where the video file doesn't exist\n",
        "missing_videos = data[data['video_exists'] == False]\n",
        "print(missing_videos[['Video URL', 'video_file']])\n",
        "\n"
      ],
      "metadata": {
        "colab": {
          "base_uri": "https://localhost:8080/"
        },
        "id": "-3Dsa0F7K3nO",
        "outputId": "a1cb74e2-8eb9-4dc9-d044-5241517cec4f"
      },
      "execution_count": 6,
      "outputs": [
        {
          "output_type": "stream",
          "name": "stdout",
          "text": [
            "                                             Video URL  \\\n",
            "0    https://fgimagestorage.blob.core.windows.net/f...   \n",
            "1    https://fgimagestorage.blob.core.windows.net/f...   \n",
            "2    https://fgimagestorage.blob.core.windows.net/f...   \n",
            "3    https://fgimagestorage.blob.core.windows.net/f...   \n",
            "4    https://fgimagestorage.blob.core.windows.net/f...   \n",
            "..                                                 ...   \n",
            "263  https://fgimagestorage.blob.core.windows.net/f...   \n",
            "264  https://fgimagestorage.blob.core.windows.net/f...   \n",
            "265  https://fgimagestorage.blob.core.windows.net/f...   \n",
            "266  https://fgimagestorage.blob.core.windows.net/f...   \n",
            "267  https://fgimagestorage.blob.core.windows.net/f...   \n",
            "\n",
            "                  video_file  \n",
            "0     hd-999607261342550.mp4  \n",
            "1     hd-997580728807604.mp4  \n",
            "2     hd-992418235673669.mp4  \n",
            "3     hd-992064161877405.mp4  \n",
            "4     hd-991636695150147.mp4  \n",
            "..                       ...  \n",
            "263  hd-1689212771862832.mp4  \n",
            "264  hd-1685108828975354.mp4  \n",
            "265  hd-1119706949586170.mp4  \n",
            "266  hd-1119272995406354.mp4  \n",
            "267  hd-1118763132933218.mp4  \n",
            "\n",
            "[268 rows x 2 columns]\n"
          ]
        }
      ]
    },
    {
      "cell_type": "markdown",
      "source": [
        "# STEP 2 : CLEAN THE DATA"
      ],
      "metadata": {
        "id": "cER_J9ELuT52"
      }
    },
    {
      "cell_type": "code",
      "source": [
        "# Remove duplicates based on the 'video_file' column\n",
        "data_unique_videos = data.drop_duplicates(subset='video_file', keep='first')\n",
        "\n",
        "# Display the DataFrame to check the results\n",
        "print(data_unique_videos[['Video URL', 'video_file', 'Performance']].head())\n"
      ],
      "metadata": {
        "colab": {
          "base_uri": "https://localhost:8080/"
        },
        "id": "fueNWRCzK9V7",
        "outputId": "eb497112-e532-4c55-f358-bd83ef9a50a2"
      },
      "execution_count": 7,
      "outputs": [
        {
          "output_type": "stream",
          "name": "stdout",
          "text": [
            "                                           Video URL              video_file  \\\n",
            "0  https://fgimagestorage.blob.core.windows.net/f...  hd-999607261342550.mp4   \n",
            "1  https://fgimagestorage.blob.core.windows.net/f...  hd-997580728807604.mp4   \n",
            "2  https://fgimagestorage.blob.core.windows.net/f...  hd-992418235673669.mp4   \n",
            "3  https://fgimagestorage.blob.core.windows.net/f...  hd-992064161877405.mp4   \n",
            "4  https://fgimagestorage.blob.core.windows.net/f...  hd-991636695150147.mp4   \n",
            "\n",
            "   Performance  \n",
            "0       1.1060  \n",
            "1       2.2447  \n",
            "2       2.0126  \n",
            "3       1.7708  \n",
            "4       0.6293  \n"
          ]
        }
      ]
    },
    {
      "cell_type": "code",
      "source": [
        "import os\n",
        "import hashlib\n",
        "\n",
        "# Path to the videos folder\n",
        "video_folder = '/content/videos'\n",
        "\n",
        "# Function to calculate the MD5 hash of a file\n",
        "def get_file_hash(file_path):\n",
        "    hash_md5 = hashlib.md5()\n",
        "    with open(file_path, \"rb\") as f:\n",
        "        # Read the file in chunks to avoid memory issues with large files\n",
        "        for chunk in iter(lambda: f.read(4096), b\"\"):\n",
        "            hash_md5.update(chunk)\n",
        "    return hash_md5.hexdigest()\n",
        "\n",
        "# List all video files in the folder\n",
        "video_files = os.listdir(video_folder)\n",
        "\n",
        "# Track file hashes and duplicates\n",
        "file_hashes = {}\n",
        "duplicates = []\n",
        "\n",
        "# Identify duplicates based on file content hash\n",
        "for video in video_files:\n",
        "    video_path = os.path.join(video_folder, video)\n",
        "    video_hash = get_file_hash(video_path)\n",
        "\n",
        "    # If the hash is already in the dictionary, it's a duplicate\n",
        "    if video_hash in file_hashes:\n",
        "        # Only add the video to duplicates if it is not already marked as a duplicate\n",
        "        if video not in duplicates:\n",
        "            duplicates.append(video)\n",
        "    else:\n",
        "        file_hashes[video_hash] = video\n",
        "\n",
        "# Count the number of duplicate videos\n",
        "duplicate_count = len(duplicates)\n",
        "\n",
        "# Display the number of duplicate videos\n",
        "print(f\"Number of duplicate videos based on content: {duplicate_count}\")\n"
      ],
      "metadata": {
        "colab": {
          "base_uri": "https://localhost:8080/"
        },
        "id": "MqgciTALLTyV",
        "outputId": "eb5e786b-4d1c-4971-c042-58aa3f13b97a"
      },
      "execution_count": 8,
      "outputs": [
        {
          "output_type": "stream",
          "name": "stdout",
          "text": [
            "Number of duplicate videos based on content: 193\n"
          ]
        }
      ]
    },
    {
      "cell_type": "code",
      "source": [
        "import os\n",
        "import hashlib\n",
        "\n",
        "# Path to the videos folder\n",
        "video_folder = '/content/videos'\n",
        "\n",
        "# Function to calculate the MD5 hash of a file\n",
        "def get_file_hash(file_path):\n",
        "    hash_md5 = hashlib.md5()\n",
        "    with open(file_path, \"rb\") as f:\n",
        "        # Read the file in chunks to avoid memory issues with large files\n",
        "        for chunk in iter(lambda: f.read(4096), b\"\"):\n",
        "            hash_md5.update(chunk)\n",
        "    return hash_md5.hexdigest()\n",
        "\n",
        "# List all video files in the folder\n",
        "video_files = os.listdir(video_folder)\n",
        "\n",
        "# Track file hashes and duplicates\n",
        "file_hashes = {}\n",
        "duplicates = []\n",
        "\n",
        "# Identify duplicates based on file content hash\n",
        "for video in video_files:\n",
        "    video_path = os.path.join(video_folder, video)\n",
        "    video_hash = get_file_hash(video_path)\n",
        "\n",
        "    # If the hash is already in the dictionary, it's a duplicate\n",
        "    if video_hash in file_hashes:\n",
        "        # Only add the video to duplicates if it is not already marked as a duplicate\n",
        "        if video not in duplicates:\n",
        "            duplicates.append(video)\n",
        "    else:\n",
        "        file_hashes[video_hash] = video\n",
        "\n",
        "# Display the names of duplicate videos\n",
        "if duplicates:\n",
        "    print(f\"Duplicate video files: {duplicates}\")\n",
        "else:\n",
        "    print(\"No duplicate videos found.\")\n"
      ],
      "metadata": {
        "colab": {
          "base_uri": "https://localhost:8080/"
        },
        "id": "sBxWDvGILuax",
        "outputId": "68413dbe-2c9f-4b50-9834-134d1b70b401"
      },
      "execution_count": 9,
      "outputs": [
        {
          "output_type": "stream",
          "name": "stdout",
          "text": [
            "Duplicate video files: ['video_91.mp4', 'video_223.mp4', 'video_21.mp4', 'video_253.mp4', 'video_233.mp4', 'video_132.mp4', 'video_86.mp4', 'video_227.mp4', 'video_62.mp4', 'video_175.mp4', 'video_231.mp4', 'video_159.mp4', 'video_55.mp4', 'video_64.mp4', 'video_19.mp4', 'video_68.mp4', 'video_243.mp4', 'video_77.mp4', 'video_230.mp4', 'video_144.mp4', 'video_238.mp4', 'video_164.mp4', 'video_151.mp4', 'video_185.mp4', 'video_50.mp4', 'video_142.mp4', 'video_187.mp4', 'video_180.mp4', 'video_206.mp4', 'video_1.mp4', 'video_217.mp4', 'video_60.mp4', 'video_78.mp4', 'video_120.mp4', 'video_150.mp4', 'video_97.mp4', 'video_81.mp4', 'video_79.mp4', 'video_224.mp4', 'video_201.mp4', 'video_106.mp4', 'video_239.mp4', 'video_59.mp4', 'video_37.mp4', 'video_31.mp4', 'video_35.mp4', 'video_153.mp4', 'video_226.mp4', 'video_170.mp4', 'video_141.mp4', 'video_111.mp4', 'video_163.mp4', 'video_103.mp4', 'video_135.mp4', 'video_128.mp4', 'video_265.mp4', 'video_184.mp4', 'video_197.mp4', 'video_4.mp4', 'video_121.mp4', 'video_241.mp4', 'video_178.mp4', 'video_257.mp4', 'video_157.mp4', 'video_10.mp4', 'video_192.mp4', 'video_66.mp4', 'video_205.mp4', 'video_229.mp4', 'video_160.mp4', 'video_9.mp4', 'video_149.mp4', 'video_23.mp4', 'video_247.mp4', 'video_251.mp4', 'video_46.mp4', 'video_45.mp4', 'video_22.mp4', 'video_228.mp4', 'video_28.mp4', 'video_143.mp4', 'video_186.mp4', 'video_162.mp4', 'video_232.mp4', 'video_14.mp4', 'video_190.mp4', 'video_116.mp4', 'video_110.mp4', 'video_130.mp4', 'video_234.mp4', 'video_63.mp4', 'video_209.mp4', 'video_215.mp4', 'video_51.mp4', 'video_2.mp4', 'video_114.mp4', 'video_18.mp4', 'video_181.mp4', 'video_70.mp4', 'video_258.mp4', 'video_53.mp4', 'video_74.mp4', 'video_69.mp4', 'video_96.mp4', 'video_207.mp4', 'video_11.mp4', 'video_20.mp4', 'video_133.mp4', 'video_129.mp4', 'video_30.mp4', 'video_80.mp4', 'video_88.mp4', 'video_75.mp4', 'video_5.mp4', 'video_219.mp4', 'video_244.mp4', 'video_89.mp4', 'video_76.mp4', 'video_213.mp4', 'video_38.mp4', 'video_29.mp4', 'video_99.mp4', 'video_118.mp4', 'video_248.mp4', 'video_112.mp4', 'video_236.mp4', 'video_101.mp4', 'video_73.mp4', 'video_212.mp4', 'video_7.mp4', 'video_146.mp4', 'video_124.mp4', 'video_119.mp4', 'video_48.mp4', 'video_188.mp4', 'video_34.mp4', 'video_134.mp4', 'video_174.mp4', 'video_210.mp4', 'video_195.mp4', 'video_138.mp4', 'video_237.mp4', 'video_26.mp4', 'video_250.mp4', 'video_182.mp4', 'video_104.mp4', 'video_177.mp4', 'video_235.mp4', 'video_92.mp4', 'video_87.mp4', 'video_136.mp4', 'video_167.mp4', 'video_155.mp4', 'video_85.mp4', 'video_40.mp4', 'video_165.mp4', 'video_115.mp4', 'video_17.mp4', 'video_200.mp4', 'video_242.mp4', 'video_41.mp4', 'video_176.mp4', 'video_246.mp4', 'video_113.mp4', 'video_245.mp4', 'video_107.mp4', 'video_13.mp4', 'video_225.mp4', 'video_125.mp4', 'video_117.mp4', 'video_268.mp4', 'video_24.mp4', 'video_56.mp4', 'video_52.mp4', 'video_54.mp4', 'video_127.mp4', 'video_240.mp4', 'video_49.mp4', 'video_222.mp4', 'video_262.mp4', 'video_198.mp4', 'video_71.mp4', 'video_140.mp4', 'video_189.mp4', 'video_47.mp4', 'video_267.mp4', 'video_172.mp4', 'video_44.mp4', 'video_158.mp4', 'video_95.mp4', 'video_249.mp4', 'video_154.mp4', 'video_93.mp4']\n"
          ]
        }
      ]
    },
    {
      "cell_type": "code",
      "source": [
        "import hashlib\n",
        "import os\n",
        "\n",
        "# Path to the videos folder\n",
        "video_folder = '/content/videos'\n",
        "\n",
        "# Function to calculate the MD5 hash of a file\n",
        "def get_file_hash(file_path):\n",
        "    hash_md5 = hashlib.md5()\n",
        "    with open(file_path, \"rb\") as f:\n",
        "        # Read the file in chunks to avoid memory issues with large files\n",
        "        for chunk in iter(lambda: f.read(4096), b\"\"):\n",
        "            hash_md5.update(chunk)\n",
        "    return hash_md5.hexdigest()\n",
        "\n",
        "# List all video files in the folder\n",
        "video_files = os.listdir(video_folder)\n",
        "\n",
        "# Track file hashes and duplicates\n",
        "file_hashes = {}\n",
        "duplicates = []\n",
        "\n",
        "# Identify duplicates based on file content hash\n",
        "for video in video_files:\n",
        "    video_path = os.path.join(video_folder, video)\n",
        "    video_hash = get_file_hash(video_path)\n",
        "\n",
        "    # If the hash is already in the dictionary, it's a duplicate\n",
        "    if video_hash in file_hashes:\n",
        "        # Only add the video to duplicates if it is not already marked as a duplicate\n",
        "        if video not in duplicates:\n",
        "            duplicates.append(video)\n",
        "    else:\n",
        "        file_hashes[video_hash] = video\n",
        "\n",
        "# Now, let's check how many duplicates were found\n",
        "print(f\"Total number of duplicates found: {len(duplicates)}\")\n",
        "print(\"List of duplicates:\", duplicates[:20])  # Print the first 20 duplicates to check\n"
      ],
      "metadata": {
        "colab": {
          "base_uri": "https://localhost:8080/"
        },
        "id": "yY2youSVN4_h",
        "outputId": "767dbe08-b9dd-441d-fbdd-a3b2844de089"
      },
      "execution_count": 10,
      "outputs": [
        {
          "output_type": "stream",
          "name": "stdout",
          "text": [
            "Total number of duplicates found: 193\n",
            "List of duplicates: ['video_91.mp4', 'video_223.mp4', 'video_21.mp4', 'video_253.mp4', 'video_233.mp4', 'video_132.mp4', 'video_86.mp4', 'video_227.mp4', 'video_62.mp4', 'video_175.mp4', 'video_231.mp4', 'video_159.mp4', 'video_55.mp4', 'video_64.mp4', 'video_19.mp4', 'video_68.mp4', 'video_243.mp4', 'video_77.mp4', 'video_230.mp4', 'video_144.mp4']\n"
          ]
        }
      ]
    },
    {
      "cell_type": "code",
      "source": [
        "import random\n",
        "import shutil\n",
        "from google.colab import files\n",
        "import os\n",
        "\n",
        "# Ensure we have 193 duplicates identified\n",
        "print(f\"Total duplicates identified: {len(duplicates)}\")\n",
        "\n",
        "# If there are fewer than 30 duplicates, print a warning\n",
        "if len(duplicates) < 30:\n",
        "    print(f\"Warning: Only {len(duplicates)} duplicates found. Downloading all.\")\n",
        "    videos_to_download = duplicates  # All duplicates will be downloaded if fewer than 30\n",
        "else:\n",
        "    # Randomly select 30 duplicates\n",
        "    videos_to_download = random.sample(duplicates, 30)\n",
        "\n",
        "# Check the number of videos to be downloaded\n",
        "print(f\"Downloading {len(videos_to_download)} duplicate videos.\")\n",
        "\n",
        "# Create a temporary folder to store the selected videos for download\n",
        "temp_download_folder = '/content/temp_download_folder'\n",
        "os.makedirs(temp_download_folder, exist_ok=True)\n",
        "\n",
        "# Copy the randomly selected videos to the temporary folder\n",
        "for video in videos_to_download:\n",
        "    video_path = os.path.join(video_folder, video)\n",
        "    shutil.copy(video_path, temp_download_folder)\n",
        "\n",
        "# Compress the videos folder into a zip file for easier download\n",
        "shutil.make_archive('/content/random_duplicates_videos', 'zip', temp_download_folder)\n",
        "\n",
        "# Now, download the zip file containing the selected videos\n",
        "files.download('/content/random_duplicates_videos.zip')\n",
        "\n",
        "# Clean up the temporary folder\n",
        "shutil.rmtree(temp_download_folder)\n"
      ],
      "metadata": {
        "colab": {
          "base_uri": "https://localhost:8080/",
          "height": 69
        },
        "id": "Fn5E6Nj7ONf6",
        "outputId": "43f153f6-ca7b-4d50-f55d-11d16fadce5a"
      },
      "execution_count": 11,
      "outputs": [
        {
          "output_type": "stream",
          "name": "stdout",
          "text": [
            "Total duplicates identified: 193\n",
            "Downloading 30 duplicate videos.\n"
          ]
        },
        {
          "output_type": "display_data",
          "data": {
            "text/plain": [
              "<IPython.core.display.Javascript object>"
            ],
            "application/javascript": [
              "\n",
              "    async function download(id, filename, size) {\n",
              "      if (!google.colab.kernel.accessAllowed) {\n",
              "        return;\n",
              "      }\n",
              "      const div = document.createElement('div');\n",
              "      const label = document.createElement('label');\n",
              "      label.textContent = `Downloading \"${filename}\": `;\n",
              "      div.appendChild(label);\n",
              "      const progress = document.createElement('progress');\n",
              "      progress.max = size;\n",
              "      div.appendChild(progress);\n",
              "      document.body.appendChild(div);\n",
              "\n",
              "      const buffers = [];\n",
              "      let downloaded = 0;\n",
              "\n",
              "      const channel = await google.colab.kernel.comms.open(id);\n",
              "      // Send a message to notify the kernel that we're ready.\n",
              "      channel.send({})\n",
              "\n",
              "      for await (const message of channel.messages) {\n",
              "        // Send a message to notify the kernel that we're ready.\n",
              "        channel.send({})\n",
              "        if (message.buffers) {\n",
              "          for (const buffer of message.buffers) {\n",
              "            buffers.push(buffer);\n",
              "            downloaded += buffer.byteLength;\n",
              "            progress.value = downloaded;\n",
              "          }\n",
              "        }\n",
              "      }\n",
              "      const blob = new Blob(buffers, {type: 'application/binary'});\n",
              "      const a = document.createElement('a');\n",
              "      a.href = window.URL.createObjectURL(blob);\n",
              "      a.download = filename;\n",
              "      div.appendChild(a);\n",
              "      a.click();\n",
              "      div.remove();\n",
              "    }\n",
              "  "
            ]
          },
          "metadata": {}
        },
        {
          "output_type": "display_data",
          "data": {
            "text/plain": [
              "<IPython.core.display.Javascript object>"
            ],
            "application/javascript": [
              "download(\"download_e6e0d143-230b-4dd0-8cec-11a903a7a62f\", \"random_duplicates_videos.zip\", 43757674)"
            ]
          },
          "metadata": {}
        }
      ]
    },
    {
      "cell_type": "code",
      "source": [
        "import os\n",
        "\n",
        "# List of duplicate video files (from your output)\n",
        "duplicate_video_files = ['video_91.mp4', 'video_223.mp4', 'video_21.mp4', 'video_253.mp4', 'video_233.mp4', 'video_132.mp4', 'video_86.mp4', 'video_227.mp4', 'video_62.mp4', 'video_175.mp4', 'video_231.mp4', 'video_159.mp4', 'video_55.mp4', 'video_64.mp4', 'video_19.mp4', 'video_68.mp4', 'video_243.mp4', 'video_77.mp4', 'video_230.mp4', 'video_144.mp4', 'video_238.mp4', 'video_164.mp4', 'video_151.mp4', 'video_185.mp4', 'video_50.mp4', 'video_142.mp4', 'video_187.mp4', 'video_180.mp4', 'video_206.mp4', 'video_1.mp4', 'video_217.mp4', 'video_60.mp4', 'video_78.mp4', 'video_120.mp4', 'video_150.mp4', 'video_97.mp4', 'video_81.mp4', 'video_79.mp4', 'video_224.mp4', 'video_201.mp4', 'video_106.mp4', 'video_239.mp4', 'video_59.mp4', 'video_37.mp4', 'video_31.mp4', 'video_35.mp4', 'video_153.mp4', 'video_226.mp4', 'video_170.mp4', 'video_141.mp4', 'video_111.mp4', 'video_163.mp4', 'video_103.mp4', 'video_135.mp4', 'video_128.mp4', 'video_265.mp4', 'video_184.mp4', 'video_197.mp4', 'video_4.mp4', 'video_121.mp4', 'video_241.mp4', 'video_178.mp4', 'video_257.mp4', 'video_157.mp4', 'video_10.mp4', 'video_192.mp4', 'video_66.mp4', 'video_205.mp4', 'video_229.mp4', 'video_160.mp4', 'video_9.mp4', 'video_149.mp4', 'video_23.mp4', 'video_247.mp4', 'video_251.mp4', 'video_46.mp4', 'video_45.mp4', 'video_22.mp4', 'video_228.mp4', 'video_28.mp4', 'video_143.mp4', 'video_186.mp4', 'video_162.mp4', 'video_232.mp4', 'video_14.mp4', 'video_190.mp4', 'video_116.mp4', 'video_110.mp4', 'video_130.mp4', 'video_234.mp4', 'video_63.mp4', 'video_209.mp4', 'video_215.mp4', 'video_51.mp4', 'video_2.mp4', 'video_114.mp4', 'video_18.mp4', 'video_181.mp4', 'video_70.mp4', 'video_258.mp4', 'video_53.mp4', 'video_74.mp4', 'video_69.mp4', 'video_96.mp4', 'video_207.mp4', 'video_11.mp4', 'video_20.mp4', 'video_133.mp4', 'video_129.mp4', 'video_30.mp4', 'video_80.mp4', 'video_88.mp4', 'video_75.mp4', 'video_5.mp4', 'video_219.mp4', 'video_244.mp4', 'video_89.mp4', 'video_76.mp4', 'video_213.mp4', 'video_38.mp4', 'video_29.mp4', 'video_99.mp4', 'video_118.mp4', 'video_248.mp4', 'video_112.mp4', 'video_236.mp4', 'video_101.mp4', 'video_73.mp4', 'video_212.mp4', 'video_7.mp4', 'video_146.mp4', 'video_124.mp4', 'video_119.mp4', 'video_48.mp4', 'video_188.mp4', 'video_34.mp4', 'video_134.mp4', 'video_174.mp4', 'video_210.mp4', 'video_195.mp4', 'video_138.mp4', 'video_237.mp4', 'video_26.mp4', 'video_250.mp4', 'video_182.mp4', 'video_104.mp4', 'video_177.mp4', 'video_235.mp4', 'video_92.mp4', 'video_87.mp4', 'video_136.mp4', 'video_167.mp4', 'video_155.mp4', 'video_85.mp4', 'video_40.mp4', 'video_165.mp4', 'video_115.mp4', 'video_17.mp4', 'video_200.mp4', 'video_242.mp4', 'video_41.mp4', 'video_176.mp4', 'video_246.mp4', 'video_113.mp4', 'video_245.mp4', 'video_107.mp4', 'video_13.mp4', 'video_225.mp4', 'video_125.mp4', 'video_117.mp4', 'video_268.mp4', 'video_24.mp4', 'video_56.mp4', 'video_52.mp4', 'video_54.mp4', 'video_127.mp4', 'video_240.mp4', 'video_49.mp4', 'video_222.mp4', 'video_262.mp4', 'video_198.mp4', 'video_71.mp4', 'video_140.mp4', 'video_189.mp4', 'video_47.mp4', 'video_267.mp4', 'video_172.mp4', 'video_44.mp4', 'video_158.mp4', 'video_95.mp4', 'video_249.mp4', 'video_154.mp4', 'video_93.mp4']\n",
        "\n",
        "# Path to the videos folder\n",
        "video_folder = '/content/videos'\n",
        "\n",
        "# Deleting the duplicate video files\n",
        "deleted_files = []\n",
        "\n",
        "for video in duplicate_video_files:\n",
        "    video_path = os.path.join(video_folder, video)\n",
        "    if os.path.exists(video_path):\n",
        "        os.remove(video_path)\n",
        "        deleted_files.append(video)\n",
        "\n",
        "# Output the number of deleted files\n",
        "print(f\"Total number of videos deleted: {len(deleted_files)}\")\n",
        "print(\"List of deleted videos:\", deleted_files)\n"
      ],
      "metadata": {
        "colab": {
          "base_uri": "https://localhost:8080/"
        },
        "id": "snUo7b50OTm1",
        "outputId": "8e5fb9fb-61ea-4f1b-93db-65c06cae3c31"
      },
      "execution_count": 12,
      "outputs": [
        {
          "output_type": "stream",
          "name": "stdout",
          "text": [
            "Total number of videos deleted: 193\n",
            "List of deleted videos: ['video_91.mp4', 'video_223.mp4', 'video_21.mp4', 'video_253.mp4', 'video_233.mp4', 'video_132.mp4', 'video_86.mp4', 'video_227.mp4', 'video_62.mp4', 'video_175.mp4', 'video_231.mp4', 'video_159.mp4', 'video_55.mp4', 'video_64.mp4', 'video_19.mp4', 'video_68.mp4', 'video_243.mp4', 'video_77.mp4', 'video_230.mp4', 'video_144.mp4', 'video_238.mp4', 'video_164.mp4', 'video_151.mp4', 'video_185.mp4', 'video_50.mp4', 'video_142.mp4', 'video_187.mp4', 'video_180.mp4', 'video_206.mp4', 'video_1.mp4', 'video_217.mp4', 'video_60.mp4', 'video_78.mp4', 'video_120.mp4', 'video_150.mp4', 'video_97.mp4', 'video_81.mp4', 'video_79.mp4', 'video_224.mp4', 'video_201.mp4', 'video_106.mp4', 'video_239.mp4', 'video_59.mp4', 'video_37.mp4', 'video_31.mp4', 'video_35.mp4', 'video_153.mp4', 'video_226.mp4', 'video_170.mp4', 'video_141.mp4', 'video_111.mp4', 'video_163.mp4', 'video_103.mp4', 'video_135.mp4', 'video_128.mp4', 'video_265.mp4', 'video_184.mp4', 'video_197.mp4', 'video_4.mp4', 'video_121.mp4', 'video_241.mp4', 'video_178.mp4', 'video_257.mp4', 'video_157.mp4', 'video_10.mp4', 'video_192.mp4', 'video_66.mp4', 'video_205.mp4', 'video_229.mp4', 'video_160.mp4', 'video_9.mp4', 'video_149.mp4', 'video_23.mp4', 'video_247.mp4', 'video_251.mp4', 'video_46.mp4', 'video_45.mp4', 'video_22.mp4', 'video_228.mp4', 'video_28.mp4', 'video_143.mp4', 'video_186.mp4', 'video_162.mp4', 'video_232.mp4', 'video_14.mp4', 'video_190.mp4', 'video_116.mp4', 'video_110.mp4', 'video_130.mp4', 'video_234.mp4', 'video_63.mp4', 'video_209.mp4', 'video_215.mp4', 'video_51.mp4', 'video_2.mp4', 'video_114.mp4', 'video_18.mp4', 'video_181.mp4', 'video_70.mp4', 'video_258.mp4', 'video_53.mp4', 'video_74.mp4', 'video_69.mp4', 'video_96.mp4', 'video_207.mp4', 'video_11.mp4', 'video_20.mp4', 'video_133.mp4', 'video_129.mp4', 'video_30.mp4', 'video_80.mp4', 'video_88.mp4', 'video_75.mp4', 'video_5.mp4', 'video_219.mp4', 'video_244.mp4', 'video_89.mp4', 'video_76.mp4', 'video_213.mp4', 'video_38.mp4', 'video_29.mp4', 'video_99.mp4', 'video_118.mp4', 'video_248.mp4', 'video_112.mp4', 'video_236.mp4', 'video_101.mp4', 'video_73.mp4', 'video_212.mp4', 'video_7.mp4', 'video_146.mp4', 'video_124.mp4', 'video_119.mp4', 'video_48.mp4', 'video_188.mp4', 'video_34.mp4', 'video_134.mp4', 'video_174.mp4', 'video_210.mp4', 'video_195.mp4', 'video_138.mp4', 'video_237.mp4', 'video_26.mp4', 'video_250.mp4', 'video_182.mp4', 'video_104.mp4', 'video_177.mp4', 'video_235.mp4', 'video_92.mp4', 'video_87.mp4', 'video_136.mp4', 'video_167.mp4', 'video_155.mp4', 'video_85.mp4', 'video_40.mp4', 'video_165.mp4', 'video_115.mp4', 'video_17.mp4', 'video_200.mp4', 'video_242.mp4', 'video_41.mp4', 'video_176.mp4', 'video_246.mp4', 'video_113.mp4', 'video_245.mp4', 'video_107.mp4', 'video_13.mp4', 'video_225.mp4', 'video_125.mp4', 'video_117.mp4', 'video_268.mp4', 'video_24.mp4', 'video_56.mp4', 'video_52.mp4', 'video_54.mp4', 'video_127.mp4', 'video_240.mp4', 'video_49.mp4', 'video_222.mp4', 'video_262.mp4', 'video_198.mp4', 'video_71.mp4', 'video_140.mp4', 'video_189.mp4', 'video_47.mp4', 'video_267.mp4', 'video_172.mp4', 'video_44.mp4', 'video_158.mp4', 'video_95.mp4', 'video_249.mp4', 'video_154.mp4', 'video_93.mp4']\n"
          ]
        }
      ]
    },
    {
      "cell_type": "code",
      "source": [
        "import os\n",
        "\n",
        "# Path to the videos folder\n",
        "video_folder = '/content/videos'\n",
        "\n",
        "# List all video files in the folder\n",
        "video_files = os.listdir(video_folder)\n",
        "\n",
        "# The total number of videos remaining after duplicates have been removed\n",
        "remaining_videos = len(video_files)\n",
        "\n",
        "print(f\"Total number of videos remaining after duplicates are removed: {remaining_videos}\")\n"
      ],
      "metadata": {
        "colab": {
          "base_uri": "https://localhost:8080/"
        },
        "id": "xhBaG8c9Qsbn",
        "outputId": "ab355d72-6408-4d17-8a4f-b3865712a79e"
      },
      "execution_count": 13,
      "outputs": [
        {
          "output_type": "stream",
          "name": "stdout",
          "text": [
            "Total number of videos remaining after duplicates are removed: 75\n"
          ]
        }
      ]
    },
    {
      "cell_type": "code",
      "source": [
        "import cv2\n",
        "import os\n",
        "\n",
        "# Load pre-trained face detector from OpenCV\n",
        "face_cascade = cv2.CascadeClassifier(cv2.data.haarcascades + 'haarcascade_frontalface_default.xml')\n",
        "\n",
        "def detect_face_in_frame(frame):\n",
        "    gray = cv2.cvtColor(frame, cv2.COLOR_BGR2GRAY)  # Convert frame to grayscale\n",
        "    faces = face_cascade.detectMultiScale(gray, scaleFactor=1.1, minNeighbors=5, minSize=(30, 30))\n",
        "    return len(faces) > 0  # Return True if a face is detected\n",
        "\n",
        "def process_video_for_faces(video_path):\n",
        "    video = cv2.VideoCapture(video_path)\n",
        "    frame_rate = video.get(cv2.CAP_PROP_FPS)  # Get frames per second\n",
        "    success, frame = video.read()\n",
        "    count = 0\n",
        "\n",
        "    while success:\n",
        "        if count % int(frame_rate) == 0:  # Extract frame every second\n",
        "            if detect_face_in_frame(frame):  # If a face is detected, stop processing this video\n",
        "                video.release()  # Release the video object and skip to next video\n",
        "                return True\n",
        "        success, frame = video.read()\n",
        "        count += 1\n",
        "\n",
        "    video.release()\n",
        "    return False  # No face detected in this video\n",
        "\n",
        "# Process all videos\n",
        "video_folder = '/content/videos'  # Folder where videos are stored\n",
        "videos_with_faces = []  # Store videos with human faces\n",
        "\n",
        "for video_file in os.listdir(video_folder):\n",
        "    video_path = os.path.join(video_folder, video_file)\n",
        "    if process_video_for_faces(video_path):\n",
        "        videos_with_faces.append(video_file)  # If faces are detected, add the video to the list\n",
        "\n",
        "# Output the videos with human faces detected\n",
        "print(\"Videos with human faces detected:\", videos_with_faces)\n",
        "\n",
        "# Output the total number of videos with human faces detected\n",
        "print(\"Total number of videos with human faces detected:\", len(videos_with_faces))\n"
      ],
      "metadata": {
        "colab": {
          "base_uri": "https://localhost:8080/"
        },
        "id": "iCUmpBulTUwq",
        "outputId": "c64c537d-5d00-4572-edee-d0da6dd6e6e1"
      },
      "execution_count": 14,
      "outputs": [
        {
          "output_type": "stream",
          "name": "stdout",
          "text": [
            "Videos with human faces detected: ['video_67.mp4', 'video_147.mp4', 'video_264.mp4', 'video_220.mp4', 'video_148.mp4', 'video_57.mp4', 'video_218.mp4', 'video_199.mp4', 'video_82.mp4', 'video_8.mp4', 'video_156.mp4', 'video_109.mp4', 'video_122.mp4', 'video_58.mp4', 'video_131.mp4', 'video_123.mp4', 'video_98.mp4', 'video_3.mp4', 'video_216.mp4', 'video_108.mp4', 'video_100.mp4', 'video_43.mp4', 'video_166.mp4', 'video_255.mp4', 'video_194.mp4', 'video_202.mp4', 'video_193.mp4', 'video_90.mp4', 'video_12.mp4', 'video_6.mp4', 'video_204.mp4', 'video_169.mp4', 'video_254.mp4', 'video_171.mp4', 'video_263.mp4', 'video_83.mp4', 'video_173.mp4', 'video_211.mp4', 'video_105.mp4', 'video_221.mp4', 'video_168.mp4', 'video_152.mp4', 'video_191.mp4', 'video_203.mp4', 'video_39.mp4', 'video_196.mp4', 'video_102.mp4', 'video_256.mp4', 'video_259.mp4', 'video_126.mp4', 'video_183.mp4', 'video_260.mp4', 'video_145.mp4', 'video_32.mp4', 'video_42.mp4', 'video_94.mp4', 'video_139.mp4', 'video_266.mp4', 'video_36.mp4', 'video_208.mp4', 'video_214.mp4', 'video_16.mp4', 'video_252.mp4', 'video_27.mp4']\n",
            "Total number of videos with human faces detected: 64\n"
          ]
        }
      ]
    },
    {
      "cell_type": "code",
      "source": [
        "import shutil\n",
        "\n",
        "# Create a directory to store videos with faces\n",
        "output_folder = '/content/videos_with_faces'\n",
        "\n",
        "# Create the output folder if it doesn't exist\n",
        "if not os.path.exists(output_folder):\n",
        "    os.makedirs(output_folder)\n",
        "\n",
        "# Move the videos with faces to the new folder\n",
        "for video_file in videos_with_faces:\n",
        "    video_path = os.path.join(video_folder, video_file)\n",
        "    new_video_path = os.path.join(output_folder, video_file)\n",
        "\n",
        "    # Move the video to the new folder\n",
        "    shutil.move(video_path, new_video_path)\n",
        "\n",
        "# Now the videos are moved to the 'videos_with_faces' folder.\n",
        "print(f\"Moved {len(videos_with_faces)} videos to {output_folder}\")\n"
      ],
      "metadata": {
        "colab": {
          "base_uri": "https://localhost:8080/"
        },
        "id": "_tNrkR0lUag4",
        "outputId": "d4989780-443a-42f1-b45a-f99c53fcc172"
      },
      "execution_count": 15,
      "outputs": [
        {
          "output_type": "stream",
          "name": "stdout",
          "text": [
            "Moved 64 videos to /content/videos_with_faces\n"
          ]
        }
      ]
    },
    {
      "cell_type": "code",
      "source": [
        "# Path to the folder where videos with faces are stored\n",
        "output_folder = '/content/videos_with_faces'\n",
        "\n",
        "# List all video files in the output folder\n",
        "videos_in_faces_folder = os.listdir(output_folder)\n",
        "\n",
        "# Filter only video files (optional, based on file extensions)\n",
        "video_extensions = ['.mp4', '.mov', '.avi', '.mkv']  # Adjust extensions as needed\n",
        "videos_in_faces_folder = [video for video in videos_in_faces_folder if any(video.endswith(ext) for ext in video_extensions)]\n",
        "\n",
        "# Get the number of videos\n",
        "num_videos_with_faces = len(videos_in_faces_folder)\n",
        "\n",
        "# Print the number of videos\n",
        "print(f\"Total number of videos with faces: {num_videos_with_faces}\")\n"
      ],
      "metadata": {
        "colab": {
          "base_uri": "https://localhost:8080/"
        },
        "id": "smgKN8CoVPMh",
        "outputId": "dad356b5-9021-4009-9ecc-cc8d4586e5c6"
      },
      "execution_count": 16,
      "outputs": [
        {
          "output_type": "stream",
          "name": "stdout",
          "text": [
            "Total number of videos with faces: 64\n"
          ]
        }
      ]
    },
    {
      "cell_type": "markdown",
      "source": [
        "# STEP 3 : FINDING INFLUENCERS AND THEIR PERFOMANCE AVERAGE"
      ],
      "metadata": {
        "id": "voiYum-hugMM"
      }
    },
    {
      "cell_type": "code",
      "source": [
        "pip install face_recognition opencv-python scikit-learn\n"
      ],
      "metadata": {
        "colab": {
          "base_uri": "https://localhost:8080/"
        },
        "id": "-ZYm8rRyVaLl",
        "outputId": "f5a640e1-4ae7-47ed-b9d9-9d812c0cbaa5"
      },
      "execution_count": 17,
      "outputs": [
        {
          "output_type": "stream",
          "name": "stdout",
          "text": [
            "Collecting face_recognition\n",
            "  Downloading face_recognition-1.3.0-py2.py3-none-any.whl.metadata (21 kB)\n",
            "Requirement already satisfied: opencv-python in /usr/local/lib/python3.10/dist-packages (4.10.0.84)\n",
            "Requirement already satisfied: scikit-learn in /usr/local/lib/python3.10/dist-packages (1.5.2)\n",
            "Collecting face-recognition-models>=0.3.0 (from face_recognition)\n",
            "  Downloading face_recognition_models-0.3.0.tar.gz (100.1 MB)\n",
            "\u001b[2K     \u001b[90m━━━━━━━━━━━━━━━━━━━━━━━━━━━━━━━━━━━━━━━━\u001b[0m \u001b[32m100.1/100.1 MB\u001b[0m \u001b[31m7.9 MB/s\u001b[0m eta \u001b[36m0:00:00\u001b[0m\n",
            "\u001b[?25h  Preparing metadata (setup.py) ... \u001b[?25l\u001b[?25hdone\n",
            "Requirement already satisfied: Click>=6.0 in /usr/local/lib/python3.10/dist-packages (from face_recognition) (8.1.7)\n",
            "Requirement already satisfied: dlib>=19.7 in /usr/local/lib/python3.10/dist-packages (from face_recognition) (19.24.2)\n",
            "Requirement already satisfied: numpy in /usr/local/lib/python3.10/dist-packages (from face_recognition) (1.26.4)\n",
            "Requirement already satisfied: Pillow in /usr/local/lib/python3.10/dist-packages (from face_recognition) (11.0.0)\n",
            "Requirement already satisfied: scipy>=1.6.0 in /usr/local/lib/python3.10/dist-packages (from scikit-learn) (1.13.1)\n",
            "Requirement already satisfied: joblib>=1.2.0 in /usr/local/lib/python3.10/dist-packages (from scikit-learn) (1.4.2)\n",
            "Requirement already satisfied: threadpoolctl>=3.1.0 in /usr/local/lib/python3.10/dist-packages (from scikit-learn) (3.5.0)\n",
            "Downloading face_recognition-1.3.0-py2.py3-none-any.whl (15 kB)\n",
            "Building wheels for collected packages: face-recognition-models\n",
            "  Building wheel for face-recognition-models (setup.py) ... \u001b[?25l\u001b[?25hdone\n",
            "  Created wheel for face-recognition-models: filename=face_recognition_models-0.3.0-py2.py3-none-any.whl size=100566162 sha256=e0ce5a5274cc4e35ed1d6d9c887f405d0f896a1794595327f3694eb7eef49ccc\n",
            "  Stored in directory: /root/.cache/pip/wheels/7a/eb/cf/e9eced74122b679557f597bb7c8e4c739cfcac526db1fd523d\n",
            "Successfully built face-recognition-models\n",
            "Installing collected packages: face-recognition-models, face_recognition\n",
            "Successfully installed face-recognition-models-0.3.0 face_recognition-1.3.0\n"
          ]
        }
      ]
    },
    {
      "cell_type": "code",
      "source": [
        "!apt-get update\n",
        "!apt-get install -y cmake libboost-python-dev libboost-thread-dev\n"
      ],
      "metadata": {
        "colab": {
          "base_uri": "https://localhost:8080/"
        },
        "id": "WrKje-0ld839",
        "outputId": "c09cb718-a8a3-4fac-aed4-4a63f881e7f3"
      },
      "execution_count": 29,
      "outputs": [
        {
          "output_type": "stream",
          "name": "stdout",
          "text": [
            "Get:1 https://cloud.r-project.org/bin/linux/ubuntu jammy-cran40/ InRelease [3,626 B]\n",
            "Get:2 http://security.ubuntu.com/ubuntu jammy-security InRelease [129 kB]\n",
            "Hit:3 http://archive.ubuntu.com/ubuntu jammy InRelease\n",
            "Hit:4 https://developer.download.nvidia.com/compute/cuda/repos/ubuntu2204/x86_64  InRelease\n",
            "Get:5 http://archive.ubuntu.com/ubuntu jammy-updates InRelease [128 kB]\n",
            "Get:6 https://r2u.stat.illinois.edu/ubuntu jammy InRelease [6,555 B]\n",
            "Hit:7 https://ppa.launchpadcontent.net/deadsnakes/ppa/ubuntu jammy InRelease\n",
            "Hit:8 https://ppa.launchpadcontent.net/graphics-drivers/ppa/ubuntu jammy InRelease\n",
            "Hit:9 https://ppa.launchpadcontent.net/ubuntugis/ppa/ubuntu jammy InRelease\n",
            "Get:10 http://archive.ubuntu.com/ubuntu jammy-backports InRelease [127 kB]\n",
            "Get:11 http://security.ubuntu.com/ubuntu jammy-security/universe amd64 Packages [1,224 kB]\n",
            "Get:12 http://security.ubuntu.com/ubuntu jammy-security/main amd64 Packages [2,454 kB]\n",
            "Get:13 https://r2u.stat.illinois.edu/ubuntu jammy/main all Packages [8,515 kB]\n",
            "Get:14 https://r2u.stat.illinois.edu/ubuntu jammy/main amd64 Packages [2,621 kB]\n",
            "Get:15 http://archive.ubuntu.com/ubuntu jammy-updates/main amd64 Packages [2,738 kB]\n",
            "Get:16 http://archive.ubuntu.com/ubuntu jammy-updates/universe amd64 Packages [1,513 kB]\n",
            "Get:17 http://archive.ubuntu.com/ubuntu jammy-backports/universe amd64 Packages [33.8 kB]\n",
            "Fetched 19.5 MB in 9s (2,172 kB/s)\n",
            "Reading package lists... Done\n",
            "W: Skipping acquire of configured file 'main/source/Sources' as repository 'https://r2u.stat.illinois.edu/ubuntu jammy InRelease' does not seem to provide it (sources.list entry misspelt?)\n",
            "Reading package lists... Done\n",
            "Building dependency tree... Done\n",
            "Reading state information... Done\n",
            "libboost-thread-dev is already the newest version (1.74.0.3ubuntu7).\n",
            "libboost-thread-dev set to manually installed.\n",
            "libboost-python-dev is already the newest version (1.74.0.3ubuntu7).\n",
            "libboost-python-dev set to manually installed.\n",
            "cmake is already the newest version (3.22.1-1ubuntu1.22.04.2).\n",
            "0 upgraded, 0 newly installed, 0 to remove and 57 not upgraded.\n"
          ]
        }
      ]
    },
    {
      "cell_type": "code",
      "source": [
        "!pip install mediapipe"
      ],
      "metadata": {
        "colab": {
          "base_uri": "https://localhost:8080/"
        },
        "id": "5Gt2VxjMiDSF",
        "outputId": "d3ba16bc-4e83-4078-98fe-5ce321d086b8"
      },
      "execution_count": 38,
      "outputs": [
        {
          "output_type": "stream",
          "name": "stdout",
          "text": [
            "Collecting mediapipe\n",
            "  Downloading mediapipe-0.10.18-cp310-cp310-manylinux_2_17_x86_64.manylinux2014_x86_64.whl.metadata (9.7 kB)\n",
            "Requirement already satisfied: absl-py in /usr/local/lib/python3.10/dist-packages (from mediapipe) (1.4.0)\n",
            "Requirement already satisfied: attrs>=19.1.0 in /usr/local/lib/python3.10/dist-packages (from mediapipe) (24.2.0)\n",
            "Requirement already satisfied: flatbuffers>=2.0 in /usr/local/lib/python3.10/dist-packages (from mediapipe) (24.3.25)\n",
            "Requirement already satisfied: jax in /usr/local/lib/python3.10/dist-packages (from mediapipe) (0.4.33)\n",
            "Requirement already satisfied: jaxlib in /usr/local/lib/python3.10/dist-packages (from mediapipe) (0.4.33)\n",
            "Requirement already satisfied: matplotlib in /usr/local/lib/python3.10/dist-packages (from mediapipe) (3.8.0)\n",
            "Requirement already satisfied: numpy<2 in /usr/local/lib/python3.10/dist-packages (from mediapipe) (1.26.4)\n",
            "Requirement already satisfied: opencv-contrib-python in /usr/local/lib/python3.10/dist-packages (from mediapipe) (4.10.0.84)\n",
            "Requirement already satisfied: protobuf<5,>=4.25.3 in /usr/local/lib/python3.10/dist-packages (from mediapipe) (4.25.5)\n",
            "Collecting sounddevice>=0.4.4 (from mediapipe)\n",
            "  Downloading sounddevice-0.5.1-py3-none-any.whl.metadata (1.4 kB)\n",
            "Requirement already satisfied: sentencepiece in /usr/local/lib/python3.10/dist-packages (from mediapipe) (0.2.0)\n",
            "Requirement already satisfied: CFFI>=1.0 in /usr/local/lib/python3.10/dist-packages (from sounddevice>=0.4.4->mediapipe) (1.17.1)\n",
            "Requirement already satisfied: ml-dtypes>=0.2.0 in /usr/local/lib/python3.10/dist-packages (from jax->mediapipe) (0.4.1)\n",
            "Requirement already satisfied: opt-einsum in /usr/local/lib/python3.10/dist-packages (from jax->mediapipe) (3.4.0)\n",
            "Requirement already satisfied: scipy>=1.10 in /usr/local/lib/python3.10/dist-packages (from jax->mediapipe) (1.13.1)\n",
            "Requirement already satisfied: contourpy>=1.0.1 in /usr/local/lib/python3.10/dist-packages (from matplotlib->mediapipe) (1.3.1)\n",
            "Requirement already satisfied: cycler>=0.10 in /usr/local/lib/python3.10/dist-packages (from matplotlib->mediapipe) (0.12.1)\n",
            "Requirement already satisfied: fonttools>=4.22.0 in /usr/local/lib/python3.10/dist-packages (from matplotlib->mediapipe) (4.55.0)\n",
            "Requirement already satisfied: kiwisolver>=1.0.1 in /usr/local/lib/python3.10/dist-packages (from matplotlib->mediapipe) (1.4.7)\n",
            "Requirement already satisfied: packaging>=20.0 in /usr/local/lib/python3.10/dist-packages (from matplotlib->mediapipe) (24.2)\n",
            "Requirement already satisfied: pillow>=6.2.0 in /usr/local/lib/python3.10/dist-packages (from matplotlib->mediapipe) (11.0.0)\n",
            "Requirement already satisfied: pyparsing>=2.3.1 in /usr/local/lib/python3.10/dist-packages (from matplotlib->mediapipe) (3.2.0)\n",
            "Requirement already satisfied: python-dateutil>=2.7 in /usr/local/lib/python3.10/dist-packages (from matplotlib->mediapipe) (2.8.2)\n",
            "Requirement already satisfied: pycparser in /usr/local/lib/python3.10/dist-packages (from CFFI>=1.0->sounddevice>=0.4.4->mediapipe) (2.22)\n",
            "Requirement already satisfied: six>=1.5 in /usr/local/lib/python3.10/dist-packages (from python-dateutil>=2.7->matplotlib->mediapipe) (1.16.0)\n",
            "Downloading mediapipe-0.10.18-cp310-cp310-manylinux_2_17_x86_64.manylinux2014_x86_64.whl (36.1 MB)\n",
            "\u001b[2K   \u001b[90m━━━━━━━━━━━━━━━━━━━━━━━━━━━━━━━━━━━━━━━━\u001b[0m \u001b[32m36.1/36.1 MB\u001b[0m \u001b[31m15.0 MB/s\u001b[0m eta \u001b[36m0:00:00\u001b[0m\n",
            "\u001b[?25hDownloading sounddevice-0.5.1-py3-none-any.whl (32 kB)\n",
            "Installing collected packages: sounddevice, mediapipe\n",
            "Successfully installed mediapipe-0.10.18 sounddevice-0.5.1\n"
          ]
        }
      ]
    },
    {
      "source": [
        "import os\n",
        "import cv2\n",
        "import mediapipe as mp\n",
        "from tqdm import tqdm\n",
        "\n",
        "# Mediapipe setup\n",
        "mp_face_detection = mp.solutions.face_detection\n",
        "face_detection = mp_face_detection.FaceDetection(model_selection=1, min_detection_confidence=0.5)\n",
        "\n",
        "# Paths\n",
        "videos_with_faces_folder = \"/content/videos_with_faces\"\n",
        "output_folder = \"/content/influencers\"\n",
        "os.makedirs(output_folder, exist_ok=True)\n",
        "\n",
        "# Dictionary to store influencer groups\n",
        "influencer_groups = {}\n",
        "influencer_count = 0  # Initialize influencer_count here\n",
        "\n",
        "def process_video(video_path):\n",
        "    \"\"\"\n",
        "    Processes a video to detect faces and return bounding box coordinates.\n",
        "    \"\"\"\n",
        "    video_capture = cv2.VideoCapture(video_path)\n",
        "    frame_count = int(video_capture.get(cv2.CAP_PROP_FRAME_COUNT))\n",
        "    frame_skip = max(frame_count // 10, 1)  # Process 10 evenly spaced frames\n",
        "\n",
        "    face_data = []\n",
        "    frame_idx = 0\n",
        "    while video_capture.isOpened():\n",
        "        ret, frame = video_capture.read()\n",
        "        if not ret:\n",
        "            break\n",
        "        frame_idx += 1\n",
        "        if frame_idx % frame_skip != 0:\n",
        "            continue\n",
        "\n",
        "        # Convert the frame to RGB\n",
        "        frame_rgb = cv2.cvtColor(frame, cv2.COLOR_BGR2RGB)\n",
        "\n",
        "        # Detect faces\n",
        "        results = face_detection.process(frame_rgb)\n",
        "        if results.detections:\n",
        "            face_data.append(results.detections)\n",
        "\n",
        "    video_capture.release()\n",
        "    return face_data\n",
        "\n",
        "def main():\n",
        "    video_files = [f for f in os.listdir(videos_with_faces_folder) if f.endswith(\".mp4\")]\n",
        "\n",
        "    print(f\"[Info] Found {len(video_files)} videos to process.\")\n",
        "\n",
        "    for video_file in tqdm(video_files, desc=\"Processing Videos\"):\n",
        "        video_path = os.path.join(videos_with_faces_folder, video_file)\n",
        "        print(f\"[Info] Processing: {video_file}\")\n",
        "\n",
        "        # Extract face data from the current video\n",
        "        face_data = process_video(video_path)\n",
        "\n",
        "        # Assign video to an influencer group\n",
        "        assigned_to_group = False\n",
        "        for group_name, group_data in influencer_groups.items():\n",
        "            if len(face_data) == len(group_data):  # Rough heuristic for similarity\n",
        "                influencer_groups[group_name].append(video_file)\n",
        "                assigned_to_group = True\n",
        "                break\n",
        "\n",
        "        if not assigned_to_group:\n",
        "            global influencer_count  # Use global variable to modify influencer_count\n",
        "            influencer_count += 1\n",
        "            new_group_name = f\"Influencer_{influencer_count}\"\n",
        "            influencer_groups[new_group_name] = [video_file]\n",
        "\n",
        "    print(\"[Info] Grouping completed!\")\n",
        "    for group, videos in influencer_groups.items():\n",
        "        print(f\"{group}: {', '.join(videos)}\")\n",
        "\n",
        "if __name__ == \"__main__\":\n",
        "    main()\n"
      ],
      "cell_type": "code",
      "metadata": {
        "colab": {
          "base_uri": "https://localhost:8080/"
        },
        "id": "PerV6YX1g-iW",
        "outputId": "acb6aa9d-0cff-475d-bd05-f43add45377c"
      },
      "execution_count": 40,
      "outputs": [
        {
          "output_type": "stream",
          "name": "stdout",
          "text": [
            "[Info] Found 64 videos to process.\n"
          ]
        },
        {
          "output_type": "stream",
          "name": "stderr",
          "text": [
            "\rProcessing Videos:   0%|          | 0/64 [00:00<?, ?it/s]"
          ]
        },
        {
          "output_type": "stream",
          "name": "stdout",
          "text": [
            "[Info] Processing: video_67.mp4\n"
          ]
        },
        {
          "output_type": "stream",
          "name": "stderr",
          "text": [
            "\rProcessing Videos:   2%|▏         | 1/64 [00:03<03:51,  3.68s/it]"
          ]
        },
        {
          "output_type": "stream",
          "name": "stdout",
          "text": [
            "[Info] Processing: video_147.mp4\n"
          ]
        },
        {
          "output_type": "stream",
          "name": "stderr",
          "text": [
            "\rProcessing Videos:   3%|▎         | 2/64 [00:04<02:13,  2.15s/it]"
          ]
        },
        {
          "output_type": "stream",
          "name": "stdout",
          "text": [
            "[Info] Processing: video_264.mp4\n"
          ]
        },
        {
          "output_type": "stream",
          "name": "stderr",
          "text": [
            "\rProcessing Videos:   5%|▍         | 3/64 [00:06<02:08,  2.11s/it]"
          ]
        },
        {
          "output_type": "stream",
          "name": "stdout",
          "text": [
            "[Info] Processing: video_220.mp4\n"
          ]
        },
        {
          "output_type": "stream",
          "name": "stderr",
          "text": [
            "\rProcessing Videos:   6%|▋         | 4/64 [00:08<01:45,  1.76s/it]"
          ]
        },
        {
          "output_type": "stream",
          "name": "stdout",
          "text": [
            "[Info] Processing: video_148.mp4\n"
          ]
        },
        {
          "output_type": "stream",
          "name": "stderr",
          "text": [
            "\rProcessing Videos:   8%|▊         | 5/64 [00:09<01:37,  1.65s/it]"
          ]
        },
        {
          "output_type": "stream",
          "name": "stdout",
          "text": [
            "[Info] Processing: video_57.mp4\n"
          ]
        },
        {
          "output_type": "stream",
          "name": "stderr",
          "text": [
            "\rProcessing Videos:   9%|▉         | 6/64 [00:11<01:44,  1.81s/it]"
          ]
        },
        {
          "output_type": "stream",
          "name": "stdout",
          "text": [
            "[Info] Processing: video_218.mp4\n"
          ]
        },
        {
          "output_type": "stream",
          "name": "stderr",
          "text": [
            "\rProcessing Videos:  11%|█         | 7/64 [00:14<02:00,  2.12s/it]"
          ]
        },
        {
          "output_type": "stream",
          "name": "stdout",
          "text": [
            "[Info] Processing: video_199.mp4\n"
          ]
        },
        {
          "output_type": "stream",
          "name": "stderr",
          "text": [
            "\rProcessing Videos:  12%|█▎        | 8/64 [00:16<02:06,  2.26s/it]"
          ]
        },
        {
          "output_type": "stream",
          "name": "stdout",
          "text": [
            "[Info] Processing: video_82.mp4\n"
          ]
        },
        {
          "output_type": "stream",
          "name": "stderr",
          "text": [
            "\rProcessing Videos:  14%|█▍        | 9/64 [00:17<01:38,  1.78s/it]"
          ]
        },
        {
          "output_type": "stream",
          "name": "stdout",
          "text": [
            "[Info] Processing: video_8.mp4\n"
          ]
        },
        {
          "output_type": "stream",
          "name": "stderr",
          "text": [
            "\rProcessing Videos:  16%|█▌        | 10/64 [00:19<01:29,  1.65s/it]"
          ]
        },
        {
          "output_type": "stream",
          "name": "stdout",
          "text": [
            "[Info] Processing: video_156.mp4\n"
          ]
        },
        {
          "output_type": "stream",
          "name": "stderr",
          "text": [
            "\rProcessing Videos:  17%|█▋        | 11/64 [00:20<01:19,  1.49s/it]"
          ]
        },
        {
          "output_type": "stream",
          "name": "stdout",
          "text": [
            "[Info] Processing: video_109.mp4\n"
          ]
        },
        {
          "output_type": "stream",
          "name": "stderr",
          "text": [
            "\rProcessing Videos:  19%|█▉        | 12/64 [00:21<01:20,  1.56s/it]"
          ]
        },
        {
          "output_type": "stream",
          "name": "stdout",
          "text": [
            "[Info] Processing: video_122.mp4\n"
          ]
        },
        {
          "output_type": "stream",
          "name": "stderr",
          "text": [
            "\rProcessing Videos:  20%|██        | 13/64 [00:23<01:15,  1.48s/it]"
          ]
        },
        {
          "output_type": "stream",
          "name": "stdout",
          "text": [
            "[Info] Processing: video_58.mp4\n"
          ]
        },
        {
          "output_type": "stream",
          "name": "stderr",
          "text": [
            "\rProcessing Videos:  22%|██▏       | 14/64 [00:23<01:03,  1.27s/it]"
          ]
        },
        {
          "output_type": "stream",
          "name": "stdout",
          "text": [
            "[Info] Processing: video_131.mp4\n"
          ]
        },
        {
          "output_type": "stream",
          "name": "stderr",
          "text": [
            "\rProcessing Videos:  23%|██▎       | 15/64 [00:25<01:00,  1.24s/it]"
          ]
        },
        {
          "output_type": "stream",
          "name": "stdout",
          "text": [
            "[Info] Processing: video_123.mp4\n"
          ]
        },
        {
          "output_type": "stream",
          "name": "stderr",
          "text": [
            "\rProcessing Videos:  25%|██▌       | 16/64 [00:26<00:57,  1.21s/it]"
          ]
        },
        {
          "output_type": "stream",
          "name": "stdout",
          "text": [
            "[Info] Processing: video_98.mp4\n"
          ]
        },
        {
          "output_type": "stream",
          "name": "stderr",
          "text": [
            "\rProcessing Videos:  27%|██▋       | 17/64 [00:28<01:09,  1.48s/it]"
          ]
        },
        {
          "output_type": "stream",
          "name": "stdout",
          "text": [
            "[Info] Processing: video_3.mp4\n"
          ]
        },
        {
          "output_type": "stream",
          "name": "stderr",
          "text": [
            "\rProcessing Videos:  28%|██▊       | 18/64 [00:31<01:35,  2.08s/it]"
          ]
        },
        {
          "output_type": "stream",
          "name": "stdout",
          "text": [
            "[Info] Processing: video_216.mp4\n"
          ]
        },
        {
          "output_type": "stream",
          "name": "stderr",
          "text": [
            "\rProcessing Videos:  30%|██▉       | 19/64 [00:34<01:45,  2.35s/it]"
          ]
        },
        {
          "output_type": "stream",
          "name": "stdout",
          "text": [
            "[Info] Processing: video_108.mp4\n"
          ]
        },
        {
          "output_type": "stream",
          "name": "stderr",
          "text": [
            "\rProcessing Videos:  31%|███▏      | 20/64 [00:35<01:27,  1.98s/it]"
          ]
        },
        {
          "output_type": "stream",
          "name": "stdout",
          "text": [
            "[Info] Processing: video_100.mp4\n"
          ]
        },
        {
          "output_type": "stream",
          "name": "stderr",
          "text": [
            "\rProcessing Videos:  33%|███▎      | 21/64 [00:38<01:30,  2.11s/it]"
          ]
        },
        {
          "output_type": "stream",
          "name": "stdout",
          "text": [
            "[Info] Processing: video_43.mp4\n"
          ]
        },
        {
          "output_type": "stream",
          "name": "stderr",
          "text": [
            "\rProcessing Videos:  34%|███▍      | 22/64 [00:39<01:22,  1.95s/it]"
          ]
        },
        {
          "output_type": "stream",
          "name": "stdout",
          "text": [
            "[Info] Processing: video_166.mp4\n"
          ]
        },
        {
          "output_type": "stream",
          "name": "stderr",
          "text": [
            "\rProcessing Videos:  36%|███▌      | 23/64 [00:42<01:24,  2.06s/it]"
          ]
        },
        {
          "output_type": "stream",
          "name": "stdout",
          "text": [
            "[Info] Processing: video_255.mp4\n"
          ]
        },
        {
          "output_type": "stream",
          "name": "stderr",
          "text": [
            "\rProcessing Videos:  38%|███▊      | 24/64 [00:43<01:16,  1.91s/it]"
          ]
        },
        {
          "output_type": "stream",
          "name": "stdout",
          "text": [
            "[Info] Processing: video_194.mp4\n"
          ]
        },
        {
          "output_type": "stream",
          "name": "stderr",
          "text": [
            "\rProcessing Videos:  39%|███▉      | 25/64 [00:46<01:18,  2.01s/it]"
          ]
        },
        {
          "output_type": "stream",
          "name": "stdout",
          "text": [
            "[Info] Processing: video_202.mp4\n"
          ]
        },
        {
          "output_type": "stream",
          "name": "stderr",
          "text": [
            "\rProcessing Videos:  41%|████      | 26/64 [00:48<01:17,  2.05s/it]"
          ]
        },
        {
          "output_type": "stream",
          "name": "stdout",
          "text": [
            "[Info] Processing: video_193.mp4\n"
          ]
        },
        {
          "output_type": "stream",
          "name": "stderr",
          "text": [
            "\rProcessing Videos:  42%|████▏     | 27/64 [00:49<01:06,  1.80s/it]"
          ]
        },
        {
          "output_type": "stream",
          "name": "stdout",
          "text": [
            "[Info] Processing: video_90.mp4\n"
          ]
        },
        {
          "output_type": "stream",
          "name": "stderr",
          "text": [
            "\rProcessing Videos:  44%|████▍     | 28/64 [00:50<00:59,  1.65s/it]"
          ]
        },
        {
          "output_type": "stream",
          "name": "stdout",
          "text": [
            "[Info] Processing: video_12.mp4\n"
          ]
        },
        {
          "output_type": "stream",
          "name": "stderr",
          "text": [
            "\rProcessing Videos:  45%|████▌     | 29/64 [00:52<01:00,  1.73s/it]"
          ]
        },
        {
          "output_type": "stream",
          "name": "stdout",
          "text": [
            "[Info] Processing: video_6.mp4\n"
          ]
        },
        {
          "output_type": "stream",
          "name": "stderr",
          "text": [
            "\rProcessing Videos:  47%|████▋     | 30/64 [00:54<01:03,  1.86s/it]"
          ]
        },
        {
          "output_type": "stream",
          "name": "stdout",
          "text": [
            "[Info] Processing: video_204.mp4\n"
          ]
        },
        {
          "output_type": "stream",
          "name": "stderr",
          "text": [
            "\rProcessing Videos:  48%|████▊     | 31/64 [00:55<00:51,  1.56s/it]"
          ]
        },
        {
          "output_type": "stream",
          "name": "stdout",
          "text": [
            "[Info] Processing: video_169.mp4\n"
          ]
        },
        {
          "output_type": "stream",
          "name": "stderr",
          "text": [
            "\rProcessing Videos:  50%|█████     | 32/64 [00:57<00:54,  1.71s/it]"
          ]
        },
        {
          "output_type": "stream",
          "name": "stdout",
          "text": [
            "[Info] Processing: video_254.mp4\n"
          ]
        },
        {
          "output_type": "stream",
          "name": "stderr",
          "text": [
            "\rProcessing Videos:  52%|█████▏    | 33/64 [00:59<00:51,  1.66s/it]"
          ]
        },
        {
          "output_type": "stream",
          "name": "stdout",
          "text": [
            "[Info] Processing: video_171.mp4\n"
          ]
        },
        {
          "output_type": "stream",
          "name": "stderr",
          "text": [
            "\rProcessing Videos:  53%|█████▎    | 34/64 [01:02<00:59,  1.99s/it]"
          ]
        },
        {
          "output_type": "stream",
          "name": "stdout",
          "text": [
            "[Info] Processing: video_263.mp4\n"
          ]
        },
        {
          "output_type": "stream",
          "name": "stderr",
          "text": [
            "\rProcessing Videos:  55%|█████▍    | 35/64 [01:02<00:48,  1.67s/it]"
          ]
        },
        {
          "output_type": "stream",
          "name": "stdout",
          "text": [
            "[Info] Processing: video_83.mp4\n"
          ]
        },
        {
          "output_type": "stream",
          "name": "stderr",
          "text": [
            "\rProcessing Videos:  56%|█████▋    | 36/64 [01:04<00:49,  1.77s/it]"
          ]
        },
        {
          "output_type": "stream",
          "name": "stdout",
          "text": [
            "[Info] Processing: video_173.mp4\n"
          ]
        },
        {
          "output_type": "stream",
          "name": "stderr",
          "text": [
            "\rProcessing Videos:  58%|█████▊    | 37/64 [01:06<00:43,  1.62s/it]"
          ]
        },
        {
          "output_type": "stream",
          "name": "stdout",
          "text": [
            "[Info] Processing: video_211.mp4\n"
          ]
        },
        {
          "output_type": "stream",
          "name": "stderr",
          "text": [
            "\rProcessing Videos:  59%|█████▉    | 38/64 [01:06<00:32,  1.27s/it]"
          ]
        },
        {
          "output_type": "stream",
          "name": "stdout",
          "text": [
            "[Info] Processing: video_105.mp4\n"
          ]
        },
        {
          "output_type": "stream",
          "name": "stderr",
          "text": [
            "\rProcessing Videos:  61%|██████    | 39/64 [01:08<00:38,  1.54s/it]"
          ]
        },
        {
          "output_type": "stream",
          "name": "stdout",
          "text": [
            "[Info] Processing: video_221.mp4\n"
          ]
        },
        {
          "output_type": "stream",
          "name": "stderr",
          "text": [
            "\rProcessing Videos:  62%|██████▎   | 40/64 [01:10<00:37,  1.56s/it]"
          ]
        },
        {
          "output_type": "stream",
          "name": "stdout",
          "text": [
            "[Info] Processing: video_168.mp4\n"
          ]
        },
        {
          "output_type": "stream",
          "name": "stderr",
          "text": [
            "\rProcessing Videos:  64%|██████▍   | 41/64 [01:15<00:56,  2.47s/it]"
          ]
        },
        {
          "output_type": "stream",
          "name": "stdout",
          "text": [
            "[Info] Processing: video_152.mp4\n"
          ]
        },
        {
          "output_type": "stream",
          "name": "stderr",
          "text": [
            "\rProcessing Videos:  66%|██████▌   | 42/64 [01:16<00:50,  2.30s/it]"
          ]
        },
        {
          "output_type": "stream",
          "name": "stdout",
          "text": [
            "[Info] Processing: video_191.mp4\n"
          ]
        },
        {
          "output_type": "stream",
          "name": "stderr",
          "text": [
            "\rProcessing Videos:  67%|██████▋   | 43/64 [01:18<00:41,  1.99s/it]"
          ]
        },
        {
          "output_type": "stream",
          "name": "stdout",
          "text": [
            "[Info] Processing: video_203.mp4\n"
          ]
        },
        {
          "output_type": "stream",
          "name": "stderr",
          "text": [
            "\rProcessing Videos:  69%|██████▉   | 44/64 [01:19<00:36,  1.82s/it]"
          ]
        },
        {
          "output_type": "stream",
          "name": "stdout",
          "text": [
            "[Info] Processing: video_39.mp4\n"
          ]
        },
        {
          "output_type": "stream",
          "name": "stderr",
          "text": [
            "\rProcessing Videos:  70%|███████   | 45/64 [01:22<00:42,  2.24s/it]"
          ]
        },
        {
          "output_type": "stream",
          "name": "stdout",
          "text": [
            "[Info] Processing: video_196.mp4\n"
          ]
        },
        {
          "output_type": "stream",
          "name": "stderr",
          "text": [
            "\rProcessing Videos:  72%|███████▏  | 46/64 [01:25<00:44,  2.45s/it]"
          ]
        },
        {
          "output_type": "stream",
          "name": "stdout",
          "text": [
            "[Info] Processing: video_102.mp4\n"
          ]
        },
        {
          "output_type": "stream",
          "name": "stderr",
          "text": [
            "\rProcessing Videos:  73%|███████▎  | 47/64 [01:28<00:44,  2.64s/it]"
          ]
        },
        {
          "output_type": "stream",
          "name": "stdout",
          "text": [
            "[Info] Processing: video_256.mp4\n"
          ]
        },
        {
          "output_type": "stream",
          "name": "stderr",
          "text": [
            "\rProcessing Videos:  75%|███████▌  | 48/64 [01:30<00:37,  2.37s/it]"
          ]
        },
        {
          "output_type": "stream",
          "name": "stdout",
          "text": [
            "[Info] Processing: video_259.mp4\n"
          ]
        },
        {
          "output_type": "stream",
          "name": "stderr",
          "text": [
            "\rProcessing Videos:  77%|███████▋  | 49/64 [01:32<00:34,  2.33s/it]"
          ]
        },
        {
          "output_type": "stream",
          "name": "stdout",
          "text": [
            "[Info] Processing: video_126.mp4\n"
          ]
        },
        {
          "output_type": "stream",
          "name": "stderr",
          "text": [
            "\rProcessing Videos:  78%|███████▊  | 50/64 [01:35<00:33,  2.38s/it]"
          ]
        },
        {
          "output_type": "stream",
          "name": "stdout",
          "text": [
            "[Info] Processing: video_183.mp4\n"
          ]
        },
        {
          "output_type": "stream",
          "name": "stderr",
          "text": [
            "\rProcessing Videos:  80%|███████▉  | 51/64 [01:36<00:27,  2.13s/it]"
          ]
        },
        {
          "output_type": "stream",
          "name": "stdout",
          "text": [
            "[Info] Processing: video_260.mp4\n"
          ]
        },
        {
          "output_type": "stream",
          "name": "stderr",
          "text": [
            "\rProcessing Videos:  81%|████████▏ | 52/64 [01:38<00:23,  1.99s/it]"
          ]
        },
        {
          "output_type": "stream",
          "name": "stdout",
          "text": [
            "[Info] Processing: video_145.mp4\n"
          ]
        },
        {
          "output_type": "stream",
          "name": "stderr",
          "text": [
            "\rProcessing Videos:  83%|████████▎ | 53/64 [01:41<00:23,  2.13s/it]"
          ]
        },
        {
          "output_type": "stream",
          "name": "stdout",
          "text": [
            "[Info] Processing: video_32.mp4\n"
          ]
        },
        {
          "output_type": "stream",
          "name": "stderr",
          "text": [
            "\rProcessing Videos:  84%|████████▍ | 54/64 [01:44<00:24,  2.46s/it]"
          ]
        },
        {
          "output_type": "stream",
          "name": "stdout",
          "text": [
            "[Info] Processing: video_42.mp4\n"
          ]
        },
        {
          "output_type": "stream",
          "name": "stderr",
          "text": [
            "\rProcessing Videos:  86%|████████▌ | 55/64 [01:45<00:18,  2.08s/it]"
          ]
        },
        {
          "output_type": "stream",
          "name": "stdout",
          "text": [
            "[Info] Processing: video_94.mp4\n"
          ]
        },
        {
          "output_type": "stream",
          "name": "stderr",
          "text": [
            "\rProcessing Videos:  88%|████████▊ | 56/64 [01:46<00:13,  1.73s/it]"
          ]
        },
        {
          "output_type": "stream",
          "name": "stdout",
          "text": [
            "[Info] Processing: video_139.mp4\n"
          ]
        },
        {
          "output_type": "stream",
          "name": "stderr",
          "text": [
            "\rProcessing Videos:  89%|████████▉ | 57/64 [01:48<00:12,  1.84s/it]"
          ]
        },
        {
          "output_type": "stream",
          "name": "stdout",
          "text": [
            "[Info] Processing: video_266.mp4\n"
          ]
        },
        {
          "output_type": "stream",
          "name": "stderr",
          "text": [
            "\rProcessing Videos:  91%|█████████ | 58/64 [01:51<00:13,  2.25s/it]"
          ]
        },
        {
          "output_type": "stream",
          "name": "stdout",
          "text": [
            "[Info] Processing: video_36.mp4\n"
          ]
        },
        {
          "output_type": "stream",
          "name": "stderr",
          "text": [
            "\rProcessing Videos:  92%|█████████▏| 59/64 [01:52<00:09,  1.84s/it]"
          ]
        },
        {
          "output_type": "stream",
          "name": "stdout",
          "text": [
            "[Info] Processing: video_208.mp4\n"
          ]
        },
        {
          "output_type": "stream",
          "name": "stderr",
          "text": [
            "\rProcessing Videos:  94%|█████████▍| 60/64 [01:54<00:07,  1.84s/it]"
          ]
        },
        {
          "output_type": "stream",
          "name": "stdout",
          "text": [
            "[Info] Processing: video_214.mp4\n"
          ]
        },
        {
          "output_type": "stream",
          "name": "stderr",
          "text": [
            "\rProcessing Videos:  95%|█████████▌| 61/64 [01:55<00:05,  1.71s/it]"
          ]
        },
        {
          "output_type": "stream",
          "name": "stdout",
          "text": [
            "[Info] Processing: video_16.mp4\n"
          ]
        },
        {
          "output_type": "stream",
          "name": "stderr",
          "text": [
            "\rProcessing Videos:  97%|█████████▋| 62/64 [01:58<00:03,  1.89s/it]"
          ]
        },
        {
          "output_type": "stream",
          "name": "stdout",
          "text": [
            "[Info] Processing: video_252.mp4\n"
          ]
        },
        {
          "output_type": "stream",
          "name": "stderr",
          "text": [
            "\rProcessing Videos:  98%|█████████▊| 63/64 [02:00<00:02,  2.01s/it]"
          ]
        },
        {
          "output_type": "stream",
          "name": "stdout",
          "text": [
            "[Info] Processing: video_27.mp4\n"
          ]
        },
        {
          "output_type": "stream",
          "name": "stderr",
          "text": [
            "Processing Videos: 100%|██████████| 64/64 [02:00<00:00,  1.89s/it]"
          ]
        },
        {
          "output_type": "stream",
          "name": "stdout",
          "text": [
            "[Info] Grouping completed!\n",
            "Influencer_1: video_67.mp4, video_8.mp4, video_98.mp4, video_202.mp4, video_90.mp4, video_12.mp4, video_169.mp4\n",
            "Influencer_2: video_147.mp4, video_122.mp4, video_3.mp4, video_152.mp4, video_139.mp4, video_266.mp4, video_16.mp4\n",
            "Influencer_3: video_264.mp4, video_166.mp4, video_6.mp4, video_256.mp4\n",
            "Influencer_4: video_220.mp4, video_193.mp4, video_203.mp4, video_183.mp4\n",
            "Influencer_5: video_148.mp4, video_171.mp4, video_39.mp4\n",
            "Influencer_6: video_57.mp4, video_173.mp4, video_102.mp4\n",
            "Influencer_7: video_218.mp4, video_191.mp4, video_260.mp4\n",
            "Influencer_8: video_199.mp4, video_259.mp4, video_32.mp4\n",
            "Influencer_9: video_82.mp4\n",
            "Influencer_10: video_156.mp4\n",
            "Influencer_11: video_109.mp4\n",
            "Influencer_12: video_58.mp4\n",
            "Influencer_13: video_131.mp4\n",
            "Influencer_14: video_123.mp4\n",
            "Influencer_15: video_216.mp4\n",
            "Influencer_16: video_108.mp4\n",
            "Influencer_17: video_100.mp4\n",
            "Influencer_18: video_43.mp4\n",
            "Influencer_19: video_255.mp4\n",
            "Influencer_20: video_194.mp4\n",
            "Influencer_21: video_204.mp4\n",
            "Influencer_22: video_254.mp4\n",
            "Influencer_23: video_263.mp4\n",
            "Influencer_24: video_83.mp4\n",
            "Influencer_25: video_211.mp4\n",
            "Influencer_26: video_105.mp4\n",
            "Influencer_27: video_221.mp4\n",
            "Influencer_28: video_168.mp4\n",
            "Influencer_29: video_196.mp4\n",
            "Influencer_30: video_126.mp4\n",
            "Influencer_31: video_145.mp4\n",
            "Influencer_32: video_42.mp4\n",
            "Influencer_33: video_94.mp4\n",
            "Influencer_34: video_36.mp4\n",
            "Influencer_35: video_208.mp4\n",
            "Influencer_36: video_214.mp4\n",
            "Influencer_37: video_252.mp4\n",
            "Influencer_38: video_27.mp4\n"
          ]
        },
        {
          "output_type": "stream",
          "name": "stderr",
          "text": [
            "\n"
          ]
        }
      ]
    },
    {
      "cell_type": "code",
      "source": [
        "performace = data['Performance']\n",
        "performace.head()\n",
        "performace.iloc[105]"
      ],
      "metadata": {
        "colab": {
          "base_uri": "https://localhost:8080/"
        },
        "id": "PbimLtpUggg6",
        "outputId": "44c2e174-3d53-4abe-a9b9-721d7005e0e2"
      },
      "execution_count": 46,
      "outputs": [
        {
          "output_type": "execute_result",
          "data": {
            "text/plain": [
              "1.766256973"
            ]
          },
          "metadata": {},
          "execution_count": 46
        }
      ]
    },
    {
      "cell_type": "code",
      "source": [
        "!pip install ffmpeg-python\n"
      ],
      "metadata": {
        "colab": {
          "base_uri": "https://localhost:8080/"
        },
        "id": "nfq-XCpXpL1a",
        "outputId": "1b5378d2-8b91-4674-a4bf-c9b83d1ad803"
      },
      "execution_count": 48,
      "outputs": [
        {
          "output_type": "stream",
          "name": "stdout",
          "text": [
            "Collecting ffmpeg-python\n",
            "  Downloading ffmpeg_python-0.2.0-py3-none-any.whl.metadata (1.7 kB)\n",
            "Requirement already satisfied: future in /usr/local/lib/python3.10/dist-packages (from ffmpeg-python) (1.0.0)\n",
            "Downloading ffmpeg_python-0.2.0-py3-none-any.whl (25 kB)\n",
            "Installing collected packages: ffmpeg-python\n",
            "Successfully installed ffmpeg-python-0.2.0\n"
          ]
        }
      ]
    },
    {
      "cell_type": "code",
      "source": [
        "import pandas as pd\n",
        "\n",
        "# Assuming 'data' is your DataFrame that contains the performance column, and 'df_sorted' contains the influencer-video relationships.\n",
        "\n",
        "# 1. Get the video indices for each influencer (using the video numbers you've already classified)\n",
        "influencers_videos = {\n",
        "    \"Influencer_1\": [\"video_67\", \"video_8\", \"video_98\", \"video_202\", \"video_90\", \"video_12\", \"video_169\"],\n",
        "    \"Influencer_2\": [\"video_147\", \"video_122\", \"video_3\", \"video_152\", \"video_139\", \"video_266\", \"video_16\"],\n",
        "    \"Influencer_3\": [\"video_264\", \"video_166\", \"video_6\", \"video_256\"],\n",
        "    \"Influencer_4\": [\"video_220\", \"video_193\", \"video_203\", \"video_183\"],\n",
        "    \"Influencer_5\": [\"video_148\", \"video_171\", \"video_39\"],\n",
        "    \"Influencer_6\": [\"video_57\", \"video_173\", \"video_102\"],\n",
        "    \"Influencer_7\": [\"video_218\", \"video_191\", \"video_260\"],\n",
        "    \"Influencer_8\": [\"video_199\", \"video_259\", \"video_32\"],\n",
        "    \"Influencer_9\": [\"video_82\"],\n",
        "    \"Influencer_10\": [\"video_156\"],\n",
        "    \"Influencer_11\": [\"video_109\"],\n",
        "    \"Influencer_12\": [\"video_58\"],\n",
        "    \"Influencer_13\": [\"video_131\"],\n",
        "    \"Influencer_14\": [\"video_123\"],\n",
        "    \"Influencer_15\": [\"video_216\"],\n",
        "    \"Influencer_16\": [\"video_108\"],\n",
        "    \"Influencer_17\": [\"video_100\"],\n",
        "    \"Influencer_18\": [\"video_43\"],\n",
        "    \"Influencer_19\": [\"video_255\"],\n",
        "    \"Influencer_20\": [\"video_194\"],\n",
        "    \"Influencer_21\": [\"video_204\"],\n",
        "    \"Influencer_22\": [\"video_254\"],\n",
        "    \"Influencer_23\": [\"video_263\"],\n",
        "    \"Influencer_24\": [\"video_83\"],\n",
        "    \"Influencer_25\": [\"video_211\"],\n",
        "    \"Influencer_26\": [\"video_105\"],\n",
        "    \"Influencer_27\": [\"video_221\"],\n",
        "    \"Influencer_28\": [\"video_168\"],\n",
        "    \"Influencer_29\": [\"video_196\"],\n",
        "    \"Influencer_30\": [\"video_126\"],\n",
        "    \"Influencer_31\": [\"video_145\"],\n",
        "    \"Influencer_32\": [\"video_42\"],\n",
        "    \"Influencer_33\": [\"video_94\"],\n",
        "    \"Influencer_34\": [\"video_36\"],\n",
        "    \"Influencer_35\": [\"video_208\"],\n",
        "    \"Influencer_36\": [\"video_214\"],\n",
        "    \"Influencer_37\": [\"video_252\"],\n",
        "    \"Influencer_38\": [\"video_27\"]\n",
        "}\n",
        "\n",
        "# 2. Extract performance data for the videos of interest\n",
        "# Assuming 'data' contains the performance data, and the index corresponds to video numbers\n",
        "\n",
        "# Create a dictionary to store influencer performance and video count\n",
        "influencer_performance = {}\n",
        "\n",
        "for influencer, videos in influencers_videos.items():\n",
        "    # Extract the indices for these videos from the 'data' DataFrame\n",
        "    video_indices = [int(video.split('_')[1].split('.mp4')[0]) for video in videos]  # Extract video numbers from 'video_xx.mp4'\n",
        "    video_performance = data.iloc[video_indices]['Performance']  # Get the performance for these videos\n",
        "\n",
        "    # Calculate the average performance for this influencer\n",
        "    avg_performance = video_performance.mean()\n",
        "\n",
        "    # Count the number of videos for this influencer\n",
        "    num_videos = len(videos)\n",
        "\n",
        "    # Store the result (No image path here, only performance and video count)\n",
        "    influencer_performance[influencer] = {\n",
        "        \"Num Videos\": num_videos,\n",
        "        \"Average Performance\": avg_performance\n",
        "    }\n",
        "\n",
        "# 3. Convert the results into a DataFrame for easy visualization\n",
        "performance_df = pd.DataFrame(influencer_performance).T  # Transpose to have influencer names as rows\n",
        "performance_df = performance_df.sort_values(by=\"Average Performance\", ascending=False)  # Sort by average performance\n",
        "\n",
        "# 4. Display the table with index (Influencer names), number of videos, and average performance\n",
        "performance_df.index.name = 'Influencer'  # Set the name of the index to \"Influencer\"\n",
        "print(performance_df)\n"
      ],
      "metadata": {
        "colab": {
          "base_uri": "https://localhost:8080/"
        },
        "id": "Aph-FPmek1KS",
        "outputId": "1cfada0d-c064-4331-c99b-a455da2447ee"
      },
      "execution_count": 52,
      "outputs": [
        {
          "output_type": "stream",
          "name": "stdout",
          "text": [
            "               Num Videos  Average Performance\n",
            "Influencer                                    \n",
            "Influencer_26         1.0             1.766257\n",
            "Influencer_5          3.0             1.663886\n",
            "Influencer_14         1.0             1.618918\n",
            "Influencer_23         1.0             1.575395\n",
            "Influencer_9          1.0             1.530400\n",
            "Influencer_35         1.0             1.439201\n",
            "Influencer_25         1.0             1.423948\n",
            "Influencer_38         1.0             1.393000\n",
            "Influencer_1          7.0             1.292985\n",
            "Influencer_3          4.0             1.291776\n",
            "Influencer_21         1.0             1.269243\n",
            "Influencer_11         1.0             1.079063\n",
            "Influencer_22         1.0             1.047132\n",
            "Influencer_36         1.0             1.039207\n",
            "Influencer_31         1.0             0.980524\n",
            "Influencer_33         1.0             0.966400\n",
            "Influencer_6          3.0             0.878080\n",
            "Influencer_8          3.0             0.864933\n",
            "Influencer_2          7.0             0.861212\n",
            "Influencer_4          4.0             0.813845\n",
            "Influencer_17         1.0             0.760100\n",
            "Influencer_7          3.0             0.748553\n",
            "Influencer_13         1.0             0.737314\n",
            "Influencer_32         1.0             0.717300\n",
            "Influencer_18         1.0             0.687100\n",
            "Influencer_28         1.0             0.678355\n",
            "Influencer_19         1.0             0.670848\n",
            "Influencer_34         1.0             0.625000\n",
            "Influencer_27         1.0             0.601635\n",
            "Influencer_24         1.0             0.491700\n",
            "Influencer_15         1.0             0.468708\n",
            "Influencer_16         1.0             0.454988\n",
            "Influencer_37         1.0             0.424613\n",
            "Influencer_20         1.0             0.398426\n",
            "Influencer_10         1.0             0.396708\n",
            "Influencer_29         1.0             0.346674\n",
            "Influencer_12         1.0             0.324700\n",
            "Influencer_30         1.0             0.247623\n"
          ]
        }
      ]
    },
    {
      "cell_type": "code",
      "source": [],
      "metadata": {
        "id": "0d1ruORytHUr"
      },
      "execution_count": null,
      "outputs": []
    }
  ]
}